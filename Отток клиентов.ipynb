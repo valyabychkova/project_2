{
 "cells": [
  {
   "cell_type": "markdown",
   "id": "fe4b66a7",
   "metadata": {},
   "source": [
    "# Отток клиентов"
   ]
  },
  {
   "cell_type": "markdown",
   "id": "bf7af2b6",
   "metadata": {},
   "source": [
    "## Описание проекта"
   ]
  },
  {
   "cell_type": "markdown",
   "id": "a17b7617",
   "metadata": {},
   "source": [
    "Из «Бета-Банка» каждый месяц стали уходить клиенты.\n",
    "На основе исторических данных о поведении клиентов нужно построить модель, которая сможет спрогнозировать, уйдёт клиент из банка в ближайшее время или нет."
   ]
  },
  {
   "cell_type": "markdown",
   "id": "6c941edd",
   "metadata": {},
   "source": [
    "## Обзор и предобработка данных"
   ]
  },
  {
   "cell_type": "markdown",
   "id": "ba076393",
   "metadata": {},
   "source": [
    "Импортируем библиотеки."
   ]
  },
  {
   "cell_type": "code",
   "execution_count": 148,
   "id": "d3a74930",
   "metadata": {},
   "outputs": [],
   "source": [
    "# импорт библиотек\n",
    "import pandas as pd\n",
    "import numpy as np\n",
    "import matplotlib.pyplot as plt\n",
    "from sklearn.tree import DecisionTreeClassifier\n",
    "from sklearn.ensemble import RandomForestClassifier\n",
    "from sklearn.linear_model import LogisticRegression\n",
    "from sklearn.model_selection import train_test_split\n",
    "from sklearn.metrics import f1_score\n",
    "from sklearn.preprocessing import StandardScaler\n",
    "from sklearn.utils import shuffle\n",
    "import joblib\n",
    "from joblib import dump\n",
    "from sklearn.metrics import roc_curve \n",
    "from sklearn.metrics import roc_auc_score"
   ]
  },
  {
   "cell_type": "markdown",
   "id": "a0fd1972",
   "metadata": {},
   "source": [
    "\n",
    "Создадим датафрейм и посмотрим информацию и первые несколько строк."
   ]
  },
  {
   "cell_type": "code",
   "execution_count": 149,
   "id": "88f6204c",
   "metadata": {},
   "outputs": [],
   "source": [
    "try:\n",
    "    df = pd.read_csv('/datasets/Churn.csv') #создаём датафрейм (с сервера)\n",
    "except:\n",
    "    df = pd.read_csv('churn.csv') #создаём датафрейм (с компьютера)"
   ]
  },
  {
   "cell_type": "code",
   "execution_count": 150,
   "id": "594512b3",
   "metadata": {},
   "outputs": [
    {
     "name": "stdout",
     "output_type": "stream",
     "text": [
      "   RowNumber  CustomerId   Surname  CreditScore Geography  Gender  Age  \\\n",
      "0          1    15634602  Hargrave          619    France  Female   42   \n",
      "1          2    15647311      Hill          608     Spain  Female   41   \n",
      "2          3    15619304      Onio          502    France  Female   42   \n",
      "3          4    15701354      Boni          699    France  Female   39   \n",
      "4          5    15737888  Mitchell          850     Spain  Female   43   \n",
      "\n",
      "   Tenure    Balance  NumOfProducts  HasCrCard  IsActiveMember  \\\n",
      "0     2.0       0.00              1          1               1   \n",
      "1     1.0   83807.86              1          0               1   \n",
      "2     8.0  159660.80              3          1               0   \n",
      "3     1.0       0.00              2          0               0   \n",
      "4     2.0  125510.82              1          1               1   \n",
      "\n",
      "   EstimatedSalary  Exited  \n",
      "0        101348.88       1  \n",
      "1        112542.58       0  \n",
      "2        113931.57       1  \n",
      "3         93826.63       0  \n",
      "4         79084.10       0   \n",
      "\n",
      "<class 'pandas.core.frame.DataFrame'>\n",
      "RangeIndex: 10000 entries, 0 to 9999\n",
      "Data columns (total 14 columns):\n",
      " #   Column           Non-Null Count  Dtype  \n",
      "---  ------           --------------  -----  \n",
      " 0   RowNumber        10000 non-null  int64  \n",
      " 1   CustomerId       10000 non-null  int64  \n",
      " 2   Surname          10000 non-null  object \n",
      " 3   CreditScore      10000 non-null  int64  \n",
      " 4   Geography        10000 non-null  object \n",
      " 5   Gender           10000 non-null  object \n",
      " 6   Age              10000 non-null  int64  \n",
      " 7   Tenure           9091 non-null   float64\n",
      " 8   Balance          10000 non-null  float64\n",
      " 9   NumOfProducts    10000 non-null  int64  \n",
      " 10  HasCrCard        10000 non-null  int64  \n",
      " 11  IsActiveMember   10000 non-null  int64  \n",
      " 12  EstimatedSalary  10000 non-null  float64\n",
      " 13  Exited           10000 non-null  int64  \n",
      "dtypes: float64(3), int64(8), object(3)\n",
      "memory usage: 1.1+ MB\n"
     ]
    },
    {
     "data": {
      "text/plain": [
       "0"
      ]
     },
     "execution_count": 150,
     "metadata": {},
     "output_type": "execute_result"
    }
   ],
   "source": [
    "print(df.head(), '\\n') # выводим первые 5 строк\n",
    "df.info() # выводим информацию о датасете\n",
    "df.duplicated().sum() # выводим количество дубликатов"
   ]
  },
  {
   "cell_type": "markdown",
   "id": "81047f60",
   "metadata": {},
   "source": [
    "Такие данные как ID, фамилия и row number нам не понадобятся для анализа, поэтому эти столбцы можно удалить из датафрейма.\n",
    "Остальные столбцы приведём к змеиному регистру и проверим данные в каждом столбце на адекватность."
   ]
  },
  {
   "cell_type": "code",
   "execution_count": 151,
   "id": "7e525844",
   "metadata": {},
   "outputs": [],
   "source": [
    "df = df.drop(['RowNumber', 'CustomerId', 'Surname'], axis=1) # удаляем ненужные столбцы из датафрейма"
   ]
  },
  {
   "cell_type": "code",
   "execution_count": 152,
   "id": "aedd82f4",
   "metadata": {},
   "outputs": [],
   "source": [
    "df.columns= df.columns.str.lower() # переводим все названия в нижний регистр"
   ]
  },
  {
   "cell_type": "code",
   "execution_count": 153,
   "id": "7554d833",
   "metadata": {},
   "outputs": [
    {
     "data": {
      "text/html": [
       "<div>\n",
       "<style scoped>\n",
       "    .dataframe tbody tr th:only-of-type {\n",
       "        vertical-align: middle;\n",
       "    }\n",
       "\n",
       "    .dataframe tbody tr th {\n",
       "        vertical-align: top;\n",
       "    }\n",
       "\n",
       "    .dataframe thead th {\n",
       "        text-align: right;\n",
       "    }\n",
       "</style>\n",
       "<table border=\"1\" class=\"dataframe\">\n",
       "  <thead>\n",
       "    <tr style=\"text-align: right;\">\n",
       "      <th></th>\n",
       "      <th>credit_score</th>\n",
       "      <th>geography</th>\n",
       "      <th>gender</th>\n",
       "      <th>age</th>\n",
       "      <th>tenure</th>\n",
       "      <th>balance</th>\n",
       "      <th>num_of_products</th>\n",
       "      <th>has_cr_card</th>\n",
       "      <th>is_active_member</th>\n",
       "      <th>estimated_salary</th>\n",
       "      <th>exited</th>\n",
       "    </tr>\n",
       "  </thead>\n",
       "  <tbody>\n",
       "    <tr>\n",
       "      <th>0</th>\n",
       "      <td>619</td>\n",
       "      <td>France</td>\n",
       "      <td>Female</td>\n",
       "      <td>42</td>\n",
       "      <td>2.0</td>\n",
       "      <td>0.00</td>\n",
       "      <td>1</td>\n",
       "      <td>1</td>\n",
       "      <td>1</td>\n",
       "      <td>101348.88</td>\n",
       "      <td>1</td>\n",
       "    </tr>\n",
       "    <tr>\n",
       "      <th>1</th>\n",
       "      <td>608</td>\n",
       "      <td>Spain</td>\n",
       "      <td>Female</td>\n",
       "      <td>41</td>\n",
       "      <td>1.0</td>\n",
       "      <td>83807.86</td>\n",
       "      <td>1</td>\n",
       "      <td>0</td>\n",
       "      <td>1</td>\n",
       "      <td>112542.58</td>\n",
       "      <td>0</td>\n",
       "    </tr>\n",
       "    <tr>\n",
       "      <th>2</th>\n",
       "      <td>502</td>\n",
       "      <td>France</td>\n",
       "      <td>Female</td>\n",
       "      <td>42</td>\n",
       "      <td>8.0</td>\n",
       "      <td>159660.80</td>\n",
       "      <td>3</td>\n",
       "      <td>1</td>\n",
       "      <td>0</td>\n",
       "      <td>113931.57</td>\n",
       "      <td>1</td>\n",
       "    </tr>\n",
       "    <tr>\n",
       "      <th>3</th>\n",
       "      <td>699</td>\n",
       "      <td>France</td>\n",
       "      <td>Female</td>\n",
       "      <td>39</td>\n",
       "      <td>1.0</td>\n",
       "      <td>0.00</td>\n",
       "      <td>2</td>\n",
       "      <td>0</td>\n",
       "      <td>0</td>\n",
       "      <td>93826.63</td>\n",
       "      <td>0</td>\n",
       "    </tr>\n",
       "    <tr>\n",
       "      <th>4</th>\n",
       "      <td>850</td>\n",
       "      <td>Spain</td>\n",
       "      <td>Female</td>\n",
       "      <td>43</td>\n",
       "      <td>2.0</td>\n",
       "      <td>125510.82</td>\n",
       "      <td>1</td>\n",
       "      <td>1</td>\n",
       "      <td>1</td>\n",
       "      <td>79084.10</td>\n",
       "      <td>0</td>\n",
       "    </tr>\n",
       "  </tbody>\n",
       "</table>\n",
       "</div>"
      ],
      "text/plain": [
       "   credit_score geography  gender  age  tenure    balance  num_of_products  \\\n",
       "0           619    France  Female   42     2.0       0.00                1   \n",
       "1           608     Spain  Female   41     1.0   83807.86                1   \n",
       "2           502    France  Female   42     8.0  159660.80                3   \n",
       "3           699    France  Female   39     1.0       0.00                2   \n",
       "4           850     Spain  Female   43     2.0  125510.82                1   \n",
       "\n",
       "   has_cr_card  is_active_member  estimated_salary  exited  \n",
       "0            1                 1         101348.88       1  \n",
       "1            0                 1         112542.58       0  \n",
       "2            1                 0         113931.57       1  \n",
       "3            0                 0          93826.63       0  \n",
       "4            1                 1          79084.10       0  "
      ]
     },
     "execution_count": 153,
     "metadata": {},
     "output_type": "execute_result"
    }
   ],
   "source": [
    "df=df.rename(columns={'creditscore':'credit_score', 'numofproducts':'num_of_products', 'hascrcard':'has_cr_card', \n",
    "                   'isactivemember':'is_active_member', 'estimatedsalary':'estimated_salary'}) # переименовываем столбцы\n",
    "df.head() # выводим первые 5 строк"
   ]
  },
  {
   "cell_type": "markdown",
   "id": "e7b816d6",
   "metadata": {},
   "source": [
    "Отлично, будем смотреть все столбцы по порядку."
   ]
  },
  {
   "cell_type": "code",
   "execution_count": 154,
   "id": "31a8f70a",
   "metadata": {},
   "outputs": [
    {
     "data": {
      "image/png": "[encoded data removed]",
      "text/plain": [
       "<Figure size 432x288 with 1 Axes>"
      ]
     },
     "metadata": {
      "needs_background": "light"
     },
     "output_type": "display_data"
    }
   ],
   "source": [
    "df['credit_score'].hist(bins=100) # строим распределение кредитных очков\n",
    "plt.xlabel(\"Число кредитных очков\") \n",
    "plt.ylabel(\"Число клиентов\")\n",
    "plt.title(\"Гистограмма распределения числа кредитных очков\") \n",
    "plt.show()"
   ]
  },
  {
   "cell_type": "markdown",
   "id": "54ff6b63",
   "metadata": {},
   "source": [
    "Кажется, больше 850 очков никто иметь не может. Но данные без выбросов и аномалий. Столбик на 850 - возможно, какие-то вип-клиенты, которым сразу начислили максимальное число очков."
   ]
  },
  {
   "cell_type": "code",
   "execution_count": 155,
   "id": "24b10424",
   "metadata": {},
   "outputs": [
    {
     "data": {
      "text/plain": [
       "France     5014\n",
       "Germany    2509\n",
       "Spain      2477\n",
       "Name: geography, dtype: int64"
      ]
     },
     "execution_count": 155,
     "metadata": {},
     "output_type": "execute_result"
    }
   ],
   "source": [
    "df['geography'].value_counts() # смотрим, сколько клиентов и из каких они стран"
   ]
  },
  {
   "cell_type": "markdown",
   "id": "bd33ad2c",
   "metadata": {},
   "source": [
    "Всего 3 страны."
   ]
  },
  {
   "cell_type": "code",
   "execution_count": 156,
   "id": "1b82b79d",
   "metadata": {},
   "outputs": [
    {
     "data": {
      "text/plain": [
       "Male      5457\n",
       "Female    4543\n",
       "Name: gender, dtype: int64"
      ]
     },
     "execution_count": 156,
     "metadata": {},
     "output_type": "execute_result"
    }
   ],
   "source": [
    "df['gender'].value_counts() # смотрим гендерный состав :)"
   ]
  },
  {
   "cell_type": "code",
   "execution_count": 157,
   "id": "b37f0d6b",
   "metadata": {},
   "outputs": [
    {
     "data": {
      "image/png": "[encoded data removed]",
      "text/plain": [
       "<Figure size 432x288 with 1 Axes>"
      ]
     },
     "metadata": {
      "needs_background": "light"
     },
     "output_type": "display_data"
    }
   ],
   "source": [
    "df['age'].hist(bins=100) # строим распределение по возрастам\n",
    "plt.show()"
   ]
  },
  {
   "cell_type": "markdown",
   "id": "0da27b64",
   "metadata": {},
   "source": [
    "С возрастом, полом, странами всё в порядке. Идём дальше."
   ]
  },
  {
   "cell_type": "code",
   "execution_count": 158,
   "id": "a0574f16",
   "metadata": {},
   "outputs": [
    {
     "data": {
      "text/plain": [
       "array([ 2.,  1.,  8.,  7.,  4.,  6.,  3., 10.,  5.,  9.,  0., nan])"
      ]
     },
     "execution_count": 158,
     "metadata": {},
     "output_type": "execute_result"
    }
   ],
   "source": [
    "df['tenure'].unique() # смотрим, какие величины есть в столбце tenure"
   ]
  },
  {
   "cell_type": "markdown",
   "id": "b580bb9d",
   "metadata": {},
   "source": [
    "Попробуем разобраться, почему у некоторых клиентов в tenure пропуски. Сделаем срез по этим строкам."
   ]
  },
  {
   "cell_type": "code",
   "execution_count": 159,
   "id": "be33b0a3",
   "metadata": {},
   "outputs": [
    {
     "data": {
      "text/html": [
       "<div>\n",
       "<style scoped>\n",
       "    .dataframe tbody tr th:only-of-type {\n",
       "        vertical-align: middle;\n",
       "    }\n",
       "\n",
       "    .dataframe tbody tr th {\n",
       "        vertical-align: top;\n",
       "    }\n",
       "\n",
       "    .dataframe thead th {\n",
       "        text-align: right;\n",
       "    }\n",
       "</style>\n",
       "<table border=\"1\" class=\"dataframe\">\n",
       "  <thead>\n",
       "    <tr style=\"text-align: right;\">\n",
       "      <th></th>\n",
       "      <th>credit_score</th>\n",
       "      <th>geography</th>\n",
       "      <th>gender</th>\n",
       "      <th>age</th>\n",
       "      <th>tenure</th>\n",
       "      <th>balance</th>\n",
       "      <th>num_of_products</th>\n",
       "      <th>has_cr_card</th>\n",
       "      <th>is_active_member</th>\n",
       "      <th>estimated_salary</th>\n",
       "      <th>exited</th>\n",
       "    </tr>\n",
       "  </thead>\n",
       "  <tbody>\n",
       "    <tr>\n",
       "      <th>30</th>\n",
       "      <td>591</td>\n",
       "      <td>Spain</td>\n",
       "      <td>Female</td>\n",
       "      <td>39</td>\n",
       "      <td>NaN</td>\n",
       "      <td>0.00</td>\n",
       "      <td>3</td>\n",
       "      <td>1</td>\n",
       "      <td>0</td>\n",
       "      <td>140469.38</td>\n",
       "      <td>1</td>\n",
       "    </tr>\n",
       "    <tr>\n",
       "      <th>48</th>\n",
       "      <td>550</td>\n",
       "      <td>Germany</td>\n",
       "      <td>Male</td>\n",
       "      <td>38</td>\n",
       "      <td>NaN</td>\n",
       "      <td>103391.38</td>\n",
       "      <td>1</td>\n",
       "      <td>0</td>\n",
       "      <td>1</td>\n",
       "      <td>90878.13</td>\n",
       "      <td>0</td>\n",
       "    </tr>\n",
       "    <tr>\n",
       "      <th>51</th>\n",
       "      <td>585</td>\n",
       "      <td>Germany</td>\n",
       "      <td>Male</td>\n",
       "      <td>36</td>\n",
       "      <td>NaN</td>\n",
       "      <td>146050.97</td>\n",
       "      <td>2</td>\n",
       "      <td>0</td>\n",
       "      <td>0</td>\n",
       "      <td>86424.57</td>\n",
       "      <td>0</td>\n",
       "    </tr>\n",
       "    <tr>\n",
       "      <th>53</th>\n",
       "      <td>655</td>\n",
       "      <td>Germany</td>\n",
       "      <td>Male</td>\n",
       "      <td>41</td>\n",
       "      <td>NaN</td>\n",
       "      <td>125561.97</td>\n",
       "      <td>1</td>\n",
       "      <td>0</td>\n",
       "      <td>0</td>\n",
       "      <td>164040.94</td>\n",
       "      <td>1</td>\n",
       "    </tr>\n",
       "    <tr>\n",
       "      <th>60</th>\n",
       "      <td>742</td>\n",
       "      <td>Germany</td>\n",
       "      <td>Male</td>\n",
       "      <td>35</td>\n",
       "      <td>NaN</td>\n",
       "      <td>136857.00</td>\n",
       "      <td>1</td>\n",
       "      <td>0</td>\n",
       "      <td>0</td>\n",
       "      <td>84509.57</td>\n",
       "      <td>0</td>\n",
       "    </tr>\n",
       "    <tr>\n",
       "      <th>...</th>\n",
       "      <td>...</td>\n",
       "      <td>...</td>\n",
       "      <td>...</td>\n",
       "      <td>...</td>\n",
       "      <td>...</td>\n",
       "      <td>...</td>\n",
       "      <td>...</td>\n",
       "      <td>...</td>\n",
       "      <td>...</td>\n",
       "      <td>...</td>\n",
       "      <td>...</td>\n",
       "    </tr>\n",
       "    <tr>\n",
       "      <th>9944</th>\n",
       "      <td>744</td>\n",
       "      <td>Germany</td>\n",
       "      <td>Male</td>\n",
       "      <td>41</td>\n",
       "      <td>NaN</td>\n",
       "      <td>190409.34</td>\n",
       "      <td>2</td>\n",
       "      <td>1</td>\n",
       "      <td>1</td>\n",
       "      <td>138361.48</td>\n",
       "      <td>0</td>\n",
       "    </tr>\n",
       "    <tr>\n",
       "      <th>9956</th>\n",
       "      <td>520</td>\n",
       "      <td>France</td>\n",
       "      <td>Female</td>\n",
       "      <td>46</td>\n",
       "      <td>NaN</td>\n",
       "      <td>85216.61</td>\n",
       "      <td>1</td>\n",
       "      <td>1</td>\n",
       "      <td>0</td>\n",
       "      <td>117369.52</td>\n",
       "      <td>1</td>\n",
       "    </tr>\n",
       "    <tr>\n",
       "      <th>9964</th>\n",
       "      <td>479</td>\n",
       "      <td>France</td>\n",
       "      <td>Male</td>\n",
       "      <td>34</td>\n",
       "      <td>NaN</td>\n",
       "      <td>117593.48</td>\n",
       "      <td>2</td>\n",
       "      <td>0</td>\n",
       "      <td>0</td>\n",
       "      <td>113308.29</td>\n",
       "      <td>0</td>\n",
       "    </tr>\n",
       "    <tr>\n",
       "      <th>9985</th>\n",
       "      <td>659</td>\n",
       "      <td>France</td>\n",
       "      <td>Male</td>\n",
       "      <td>36</td>\n",
       "      <td>NaN</td>\n",
       "      <td>123841.49</td>\n",
       "      <td>2</td>\n",
       "      <td>1</td>\n",
       "      <td>0</td>\n",
       "      <td>96833.00</td>\n",
       "      <td>0</td>\n",
       "    </tr>\n",
       "    <tr>\n",
       "      <th>9999</th>\n",
       "      <td>792</td>\n",
       "      <td>France</td>\n",
       "      <td>Female</td>\n",
       "      <td>28</td>\n",
       "      <td>NaN</td>\n",
       "      <td>130142.79</td>\n",
       "      <td>1</td>\n",
       "      <td>1</td>\n",
       "      <td>0</td>\n",
       "      <td>38190.78</td>\n",
       "      <td>0</td>\n",
       "    </tr>\n",
       "  </tbody>\n",
       "</table>\n",
       "<p>909 rows × 11 columns</p>\n",
       "</div>"
      ],
      "text/plain": [
       "      credit_score geography  gender  age  tenure    balance  num_of_products  \\\n",
       "30             591     Spain  Female   39     NaN       0.00                3   \n",
       "48             550   Germany    Male   38     NaN  103391.38                1   \n",
       "51             585   Germany    Male   36     NaN  146050.97                2   \n",
       "53             655   Germany    Male   41     NaN  125561.97                1   \n",
       "60             742   Germany    Male   35     NaN  136857.00                1   \n",
       "...            ...       ...     ...  ...     ...        ...              ...   \n",
       "9944           744   Germany    Male   41     NaN  190409.34                2   \n",
       "9956           520    France  Female   46     NaN   85216.61                1   \n",
       "9964           479    France    Male   34     NaN  117593.48                2   \n",
       "9985           659    France    Male   36     NaN  123841.49                2   \n",
       "9999           792    France  Female   28     NaN  130142.79                1   \n",
       "\n",
       "      has_cr_card  is_active_member  estimated_salary  exited  \n",
       "30              1                 0         140469.38       1  \n",
       "48              0                 1          90878.13       0  \n",
       "51              0                 0          86424.57       0  \n",
       "53              0                 0         164040.94       1  \n",
       "60              0                 0          84509.57       0  \n",
       "...           ...               ...               ...     ...  \n",
       "9944            1                 1         138361.48       0  \n",
       "9956            1                 0         117369.52       1  \n",
       "9964            0                 0         113308.29       0  \n",
       "9985            1                 0          96833.00       0  \n",
       "9999            1                 0          38190.78       0  \n",
       "\n",
       "[909 rows x 11 columns]"
      ]
     },
     "metadata": {},
     "output_type": "display_data"
    }
   ],
   "source": [
    "display(df[df['tenure'].isna()])"
   ]
  },
  {
   "cell_type": "markdown",
   "id": "e8f89f3b",
   "metadata": {},
   "source": [
    "Закономерностей не видно. Попробуем поискать корреляцию tenure с другими признаками."
   ]
  },
  {
   "cell_type": "code",
   "execution_count": 160,
   "id": "8617989b",
   "metadata": {},
   "outputs": [
    {
     "data": {
      "text/html": [
       "<div>\n",
       "<style scoped>\n",
       "    .dataframe tbody tr th:only-of-type {\n",
       "        vertical-align: middle;\n",
       "    }\n",
       "\n",
       "    .dataframe tbody tr th {\n",
       "        vertical-align: top;\n",
       "    }\n",
       "\n",
       "    .dataframe thead th {\n",
       "        text-align: right;\n",
       "    }\n",
       "</style>\n",
       "<table border=\"1\" class=\"dataframe\">\n",
       "  <thead>\n",
       "    <tr style=\"text-align: right;\">\n",
       "      <th></th>\n",
       "      <th>credit_score</th>\n",
       "      <th>age</th>\n",
       "      <th>tenure</th>\n",
       "      <th>balance</th>\n",
       "      <th>num_of_products</th>\n",
       "      <th>has_cr_card</th>\n",
       "      <th>is_active_member</th>\n",
       "      <th>estimated_salary</th>\n",
       "      <th>exited</th>\n",
       "    </tr>\n",
       "  </thead>\n",
       "  <tbody>\n",
       "    <tr>\n",
       "      <th>credit_score</th>\n",
       "      <td>1.000000</td>\n",
       "      <td>-0.003965</td>\n",
       "      <td>-0.000062</td>\n",
       "      <td>0.006268</td>\n",
       "      <td>0.012238</td>\n",
       "      <td>-0.005458</td>\n",
       "      <td>0.025651</td>\n",
       "      <td>-0.001384</td>\n",
       "      <td>-0.027094</td>\n",
       "    </tr>\n",
       "    <tr>\n",
       "      <th>age</th>\n",
       "      <td>-0.003965</td>\n",
       "      <td>1.000000</td>\n",
       "      <td>-0.013134</td>\n",
       "      <td>0.028308</td>\n",
       "      <td>-0.030680</td>\n",
       "      <td>-0.011721</td>\n",
       "      <td>0.085472</td>\n",
       "      <td>-0.007201</td>\n",
       "      <td>0.285323</td>\n",
       "    </tr>\n",
       "    <tr>\n",
       "      <th>tenure</th>\n",
       "      <td>-0.000062</td>\n",
       "      <td>-0.013134</td>\n",
       "      <td>1.000000</td>\n",
       "      <td>-0.007911</td>\n",
       "      <td>0.011979</td>\n",
       "      <td>0.027232</td>\n",
       "      <td>-0.032178</td>\n",
       "      <td>0.010520</td>\n",
       "      <td>-0.016761</td>\n",
       "    </tr>\n",
       "    <tr>\n",
       "      <th>balance</th>\n",
       "      <td>0.006268</td>\n",
       "      <td>0.028308</td>\n",
       "      <td>-0.007911</td>\n",
       "      <td>1.000000</td>\n",
       "      <td>-0.304180</td>\n",
       "      <td>-0.014858</td>\n",
       "      <td>-0.010084</td>\n",
       "      <td>0.012797</td>\n",
       "      <td>0.118533</td>\n",
       "    </tr>\n",
       "    <tr>\n",
       "      <th>num_of_products</th>\n",
       "      <td>0.012238</td>\n",
       "      <td>-0.030680</td>\n",
       "      <td>0.011979</td>\n",
       "      <td>-0.304180</td>\n",
       "      <td>1.000000</td>\n",
       "      <td>0.003183</td>\n",
       "      <td>0.009612</td>\n",
       "      <td>0.014204</td>\n",
       "      <td>-0.047820</td>\n",
       "    </tr>\n",
       "    <tr>\n",
       "      <th>has_cr_card</th>\n",
       "      <td>-0.005458</td>\n",
       "      <td>-0.011721</td>\n",
       "      <td>0.027232</td>\n",
       "      <td>-0.014858</td>\n",
       "      <td>0.003183</td>\n",
       "      <td>1.000000</td>\n",
       "      <td>-0.011866</td>\n",
       "      <td>-0.009933</td>\n",
       "      <td>-0.007138</td>\n",
       "    </tr>\n",
       "    <tr>\n",
       "      <th>is_active_member</th>\n",
       "      <td>0.025651</td>\n",
       "      <td>0.085472</td>\n",
       "      <td>-0.032178</td>\n",
       "      <td>-0.010084</td>\n",
       "      <td>0.009612</td>\n",
       "      <td>-0.011866</td>\n",
       "      <td>1.000000</td>\n",
       "      <td>-0.011421</td>\n",
       "      <td>-0.156128</td>\n",
       "    </tr>\n",
       "    <tr>\n",
       "      <th>estimated_salary</th>\n",
       "      <td>-0.001384</td>\n",
       "      <td>-0.007201</td>\n",
       "      <td>0.010520</td>\n",
       "      <td>0.012797</td>\n",
       "      <td>0.014204</td>\n",
       "      <td>-0.009933</td>\n",
       "      <td>-0.011421</td>\n",
       "      <td>1.000000</td>\n",
       "      <td>0.012097</td>\n",
       "    </tr>\n",
       "    <tr>\n",
       "      <th>exited</th>\n",
       "      <td>-0.027094</td>\n",
       "      <td>0.285323</td>\n",
       "      <td>-0.016761</td>\n",
       "      <td>0.118533</td>\n",
       "      <td>-0.047820</td>\n",
       "      <td>-0.007138</td>\n",
       "      <td>-0.156128</td>\n",
       "      <td>0.012097</td>\n",
       "      <td>1.000000</td>\n",
       "    </tr>\n",
       "  </tbody>\n",
       "</table>\n",
       "</div>"
      ],
      "text/plain": [
       "                  credit_score       age    tenure   balance  num_of_products  \\\n",
       "credit_score          1.000000 -0.003965 -0.000062  0.006268         0.012238   \n",
       "age                  -0.003965  1.000000 -0.013134  0.028308        -0.030680   \n",
       "tenure               -0.000062 -0.013134  1.000000 -0.007911         0.011979   \n",
       "balance               0.006268  0.028308 -0.007911  1.000000        -0.304180   \n",
       "num_of_products       0.012238 -0.030680  0.011979 -0.304180         1.000000   \n",
       "has_cr_card          -0.005458 -0.011721  0.027232 -0.014858         0.003183   \n",
       "is_active_member      0.025651  0.085472 -0.032178 -0.010084         0.009612   \n",
       "estimated_salary     -0.001384 -0.007201  0.010520  0.012797         0.014204   \n",
       "exited               -0.027094  0.285323 -0.016761  0.118533        -0.047820   \n",
       "\n",
       "                  has_cr_card  is_active_member  estimated_salary    exited  \n",
       "credit_score        -0.005458          0.025651         -0.001384 -0.027094  \n",
       "age                 -0.011721          0.085472         -0.007201  0.285323  \n",
       "tenure               0.027232         -0.032178          0.010520 -0.016761  \n",
       "balance             -0.014858         -0.010084          0.012797  0.118533  \n",
       "num_of_products      0.003183          0.009612          0.014204 -0.047820  \n",
       "has_cr_card          1.000000         -0.011866         -0.009933 -0.007138  \n",
       "is_active_member    -0.011866          1.000000         -0.011421 -0.156128  \n",
       "estimated_salary    -0.009933         -0.011421          1.000000  0.012097  \n",
       "exited              -0.007138         -0.156128          0.012097  1.000000  "
      ]
     },
     "execution_count": 160,
     "metadata": {},
     "output_type": "execute_result"
    }
   ],
   "source": [
    "df.corr() # строим матрицу корреляции признаков в df"
   ]
  },
  {
   "cell_type": "markdown",
   "id": "c87b594e",
   "metadata": {},
   "source": [
    "Видно, что сколько-нибудь существенной корреляции у tenure ни с одним из количественных признаков нет. <br> Попробуем сгруппировать tenure по странам и по полу и посмотреть медиану."
   ]
  },
  {
   "cell_type": "code",
   "execution_count": 161,
   "id": "256ce53c",
   "metadata": {},
   "outputs": [
    {
     "data": {
      "text/plain": [
       "geography\n",
       "France     5.0\n",
       "Germany    5.0\n",
       "Spain      5.0\n",
       "Name: tenure, dtype: float64"
      ]
     },
     "execution_count": 161,
     "metadata": {},
     "output_type": "execute_result"
    }
   ],
   "source": [
    "df.groupby(['geography'])['tenure'].median() # смотрим медиану срока по разным странам"
   ]
  },
  {
   "cell_type": "code",
   "execution_count": 162,
   "id": "09dbecc0",
   "metadata": {},
   "outputs": [
    {
     "data": {
      "text/plain": [
       "gender\n",
       "Female    5.0\n",
       "Male      5.0\n",
       "Name: tenure, dtype: float64"
      ]
     },
     "execution_count": 162,
     "metadata": {},
     "output_type": "execute_result"
    }
   ],
   "source": [
    "df.groupby(['gender'])['tenure'].median() # смотрим медиану срока по мужчинам и женщинам"
   ]
  },
  {
   "cell_type": "markdown",
   "id": "9d665b6c",
   "metadata": {},
   "source": [
    "Зависимости срока от страны или пола клиента тоже нет.\n",
    "Выведем характеристики исходного распределения и после заполнения пропусков медианой."
   ]
  },
  {
   "cell_type": "code",
   "execution_count": 163,
   "id": "964e519c",
   "metadata": {},
   "outputs": [
    {
     "data": {
      "text/plain": [
       "count    9091.000000\n",
       "mean        4.997690\n",
       "std         2.894723\n",
       "min         0.000000\n",
       "25%         2.000000\n",
       "50%         5.000000\n",
       "75%         7.000000\n",
       "max        10.000000\n",
       "Name: tenure, dtype: float64"
      ]
     },
     "execution_count": 163,
     "metadata": {},
     "output_type": "execute_result"
    }
   ],
   "source": [
    "df['tenure'].describe() # описание исходного распределения"
   ]
  },
  {
   "cell_type": "code",
   "execution_count": 164,
   "id": "4aae4f88",
   "metadata": {},
   "outputs": [],
   "source": [
    "df['tenure'] = df['tenure'].fillna(df['tenure'].median()) # заполняем пропуски медианой"
   ]
  },
  {
   "cell_type": "code",
   "execution_count": 165,
   "id": "1f2eb3c4",
   "metadata": {},
   "outputs": [
    {
     "data": {
      "text/plain": [
       "count    10000.00000\n",
       "mean         4.99790\n",
       "std          2.76001\n",
       "min          0.00000\n",
       "25%          3.00000\n",
       "50%          5.00000\n",
       "75%          7.00000\n",
       "max         10.00000\n",
       "Name: tenure, dtype: float64"
      ]
     },
     "execution_count": 165,
     "metadata": {},
     "output_type": "execute_result"
    }
   ],
   "source": [
    "df['tenure'].describe() # описание нового распределения"
   ]
  },
  {
   "cell_type": "markdown",
   "id": "5e1a5ab6",
   "metadata": {},
   "source": [
    "Немного поехали стандартное отклонение и нижняя квартиль. Пока будем считать это приемлемым искажением и оставим в таком виде. <br> При подборе модели будем смотреть, как выглядит иерарархия важности признаков для каждой модели, и где в этой иереархии находится признак tenure."
   ]
  },
  {
   "cell_type": "code",
   "execution_count": 166,
   "id": "09c647e9",
   "metadata": {},
   "outputs": [
    {
     "name": "stdout",
     "output_type": "stream",
     "text": [
      "<class 'pandas.core.frame.DataFrame'>\n",
      "RangeIndex: 10000 entries, 0 to 9999\n",
      "Data columns (total 11 columns):\n",
      " #   Column            Non-Null Count  Dtype  \n",
      "---  ------            --------------  -----  \n",
      " 0   credit_score      10000 non-null  int64  \n",
      " 1   geography         10000 non-null  object \n",
      " 2   gender            10000 non-null  object \n",
      " 3   age               10000 non-null  int64  \n",
      " 4   tenure            10000 non-null  float64\n",
      " 5   balance           10000 non-null  float64\n",
      " 6   num_of_products   10000 non-null  int64  \n",
      " 7   has_cr_card       10000 non-null  int64  \n",
      " 8   is_active_member  10000 non-null  int64  \n",
      " 9   estimated_salary  10000 non-null  float64\n",
      " 10  exited            10000 non-null  int64  \n",
      "dtypes: float64(3), int64(6), object(2)\n",
      "memory usage: 859.5+ KB\n"
     ]
    }
   ],
   "source": [
    "df.info() # выводим информацию об обновлённом датафрейме"
   ]
  },
  {
   "cell_type": "code",
   "execution_count": 167,
   "id": "b0ff779c",
   "metadata": {},
   "outputs": [
    {
     "data": {
      "image/png": "[encoded data removed]",
      "text/plain": [
       "<Figure size 432x288 with 1 Axes>"
      ]
     },
     "metadata": {
      "needs_background": "light"
     },
     "output_type": "display_data"
    }
   ],
   "source": [
    "df['balance'].hist(bins=100) # строим распределение по количеству денег на балансе\n",
    "plt.xlabel(\"Баланс\") \n",
    "plt.ylabel(\"Число клиентов\")\n",
    "plt.title(\"Гистограмма распределения баланса клиентов\") \n",
    "plt.show()"
   ]
  },
  {
   "cell_type": "code",
   "execution_count": 168,
   "id": "6ac55c4f",
   "metadata": {},
   "outputs": [
    {
     "data": {
      "image/png": "[encoded data removed]",
      "text/plain": [
       "<Figure size 432x288 with 1 Axes>"
      ]
     },
     "metadata": {
      "needs_background": "light"
     },
     "output_type": "display_data"
    }
   ],
   "source": [
    "df['num_of_products'].hist(bins=100) # строим распределение по количеству продуктов\n",
    "plt.xlabel(\"Число продуктов\") \n",
    "plt.ylabel(\"Число клиентов\")\n",
    "plt.title(\"Гистограмма распределения числа продуктов, которыми пользуются клиенты\") \n",
    "plt.show()"
   ]
  },
  {
   "cell_type": "markdown",
   "id": "550d9cfd",
   "metadata": {},
   "source": [
    "С балансом и числом продуктов тоже всё понятно, без странностей."
   ]
  },
  {
   "cell_type": "code",
   "execution_count": 169,
   "id": "1a1476c6",
   "metadata": {},
   "outputs": [
    {
     "data": {
      "text/plain": [
       "1    7055\n",
       "0    2945\n",
       "Name: has_cr_card, dtype: int64"
      ]
     },
     "execution_count": 169,
     "metadata": {},
     "output_type": "execute_result"
    }
   ],
   "source": [
    "df['has_cr_card'].value_counts() # смотрим, у скольких людей есть кредитная карта"
   ]
  },
  {
   "cell_type": "code",
   "execution_count": 170,
   "id": "754ec0e8",
   "metadata": {},
   "outputs": [
    {
     "data": {
      "text/plain": [
       "1    5151\n",
       "0    4849\n",
       "Name: is_active_member, dtype: int64"
      ]
     },
     "execution_count": 170,
     "metadata": {},
     "output_type": "execute_result"
    }
   ],
   "source": [
    "df['is_active_member'].value_counts() # смотрим, сколько активных пользователей"
   ]
  },
  {
   "cell_type": "code",
   "execution_count": 171,
   "id": "8d8ca4fb",
   "metadata": {},
   "outputs": [
    {
     "data": {
      "image/png": "[encoded data removed]",
      "text/plain": [
       "<Figure size 432x288 with 1 Axes>"
      ]
     },
     "metadata": {
      "needs_background": "light"
     },
     "output_type": "display_data"
    }
   ],
   "source": [
    "df['estimated_salary'].hist(bins=1000) # строим распределение по величине зарплаты\n",
    "plt.show()"
   ]
  },
  {
   "cell_type": "markdown",
   "id": "1a75a843",
   "metadata": {},
   "source": [
    "Такое чувство, что распределение обрезали на значении 200 000."
   ]
  },
  {
   "cell_type": "code",
   "execution_count": 172,
   "id": "27ef0d1f",
   "metadata": {},
   "outputs": [
    {
     "data": {
      "text/plain": [
       "0    7963\n",
       "1    2037\n",
       "Name: exited, dtype: int64"
      ]
     },
     "execution_count": 172,
     "metadata": {},
     "output_type": "execute_result"
    }
   ],
   "source": [
    "df['exited'].value_counts() # смотрим, сколько людей ушло из банка"
   ]
  },
  {
   "cell_type": "markdown",
   "id": "54d58780",
   "metadata": {},
   "source": [
    "Обзор данных показал, что данные практически не нуждаются в предобработке. Везде адекватные значения и заметное число пропусков только в одном столбце. Можно переходить к подготовке наборов для машинного обучения."
   ]
  },
  {
   "cell_type": "markdown",
   "id": "1b457982",
   "metadata": {},
   "source": [
    "## Подготовка данных для машинного обучения"
   ]
  },
  {
   "cell_type": "markdown",
   "id": "4ee106aa",
   "metadata": {},
   "source": [
    "\n",
    "\n",
    "\n",
    "Посмотрим на баланс классов в столбце целевого признака."
   ]
  },
  {
   "cell_type": "code",
   "execution_count": 173,
   "id": "259e03dd",
   "metadata": {},
   "outputs": [
    {
     "data": {
      "image/png": "[encoded data removed]",
      "text/plain": [
       "<Figure size 432x288 with 1 Axes>"
      ]
     },
     "metadata": {},
     "output_type": "display_data"
    }
   ],
   "source": [
    "# считаем и выводим доли нулей и единиц в столбце 'exited'\n",
    "zero_share = df[df['exited'] == 0]['exited'].count()/len(df)\n",
    "one_share = df[df['exited'] == 1]['exited'].count()/len(df)\n",
    "\n",
    "# строим круговую диаграмму с долями классов целевого признака\n",
    "class_share = np.array([zero_share, one_share])\n",
    "labels = ['Доля нулей', 'Доля единиц']\n",
    "explode = (0, 0.1)\n",
    "colors=['cornflowerblue', 'red']\n",
    "plt.pie(class_share, labels = labels, autopct='%0.2f%%', shadow=True, explode=explode, radius=1.3, colors=colors)\n",
    "plt.title('Доли классов целевого признака \\n')\n",
    "plt.show()\n"
   ]
  },
  {
   "cell_type": "markdown",
   "id": "ef62e143",
   "metadata": {},
   "source": [
    "Налицо дисбаланс. Разобьём датасет на целевой признак и все остальные, их преобразуем с помощью прямого кодирования. Получим обучающую, валидационную и тестовую выборки, которые масштабируем."
   ]
  },
  {
   "cell_type": "code",
   "execution_count": 174,
   "id": "22a9fee4",
   "metadata": {},
   "outputs": [
    {
     "name": "stdout",
     "output_type": "stream",
     "text": [
      "Размеры тренировочного набора: (6000, 11) (6000,)\n",
      "Размеры валидационного набора: (2000, 11) (2000,)\n",
      "Размеры тестового набора: (2000, 11) (2000,)\n"
     ]
    }
   ],
   "source": [
    "target = df['exited'] # извлекаем целевой признак\n",
    "features = df.drop(['exited'], axis=1) # извлекаем остальные признаки \n",
    "\n",
    "# преобразовываем features с помощью прямого кодирования категориальных переменных\n",
    "features_ohe = pd.get_dummies(features, drop_first=True)\n",
    "\n",
    "features, features_test, target, target_test = train_test_split(\n",
    "    features_ohe, target, test_size=.2, random_state=12345, stratify=target) # отделяем 20% данных для тестовой выборки\n",
    "features_train, features_valid, target_train, target_valid = train_test_split(\n",
    "    features, target, test_size=.25, random_state=12345, stratify=target) # отделяем 25% оставшихся данных для валидационной выборки\n",
    "\n",
    "# масштабируем признаки всех выборок с признаками\n",
    "# делаем датафреймы из массивов с признаками\n",
    "# перезаписываем индексы в Series с целевым признаком\n",
    "scaler = StandardScaler()\n",
    "scaler.fit(features_train)\n",
    "features_train = scaler.transform(features_train)\n",
    "features_train = pd.DataFrame(features_train, columns=features_ohe.columns)\n",
    "target_train = target_train.reset_index(drop=True)\n",
    "\n",
    "\n",
    "features_valid = scaler.transform(features_valid)\n",
    "features_valid = pd.DataFrame(features_valid, columns=features_ohe.columns)\n",
    "target_valid = target_valid.reset_index(drop=True)\n",
    "\n",
    "features_test = scaler.transform(features_test)\n",
    "features_test = pd.DataFrame(features_test, columns=features_ohe.columns)\n",
    "target_test = target_test.reset_index(drop=True)\n",
    "\n",
    "# выводим размер всех наборов\n",
    "print('Размеры тренировочного набора:', features_train.shape, target_train.shape) # смотрим размеры тренировочного набора\n",
    "print('Размеры валидационного набора:', features_valid.shape, target_valid.shape) # смотрим размеры валидационного набора\n",
    "print('Размеры тестового набора:', features_test.shape, target_test.shape) # смотрим размеры тестового набора"
   ]
  },
  {
   "cell_type": "markdown",
   "id": "e1a320b3",
   "metadata": {},
   "source": [
    "Напишем функции для увеличения и уменьшения выборки и применим их к тренировочному набору. \n",
    "Так как соотношение признаков примерно 4:1, при увеличении выборки увеличим количество единиц в 4 раза, а при уменьшении оставим 25 % всех нулей, чтобы соотношений было близко к 1:1.\n",
    "\n",
    "В итоге будеим иметь тенировочных 3 набора: исходный, увеличенный и уменьшенный."
   ]
  },
  {
   "cell_type": "code",
   "execution_count": 175,
   "id": "dec5ba4f",
   "metadata": {},
   "outputs": [],
   "source": [
    "# пишем функцию, которая с помощью копирования строк с целевым признаком 1 увеличит их число в наборе, а затем перемешает строки\n",
    "def upsample(features, target, repeat):\n",
    "    features_zeros = features[target == 0]\n",
    "    features_ones = features[target == 1]\n",
    "    target_zeros = target[target == 0]\n",
    "    target_ones = target[target == 1]\n",
    "\n",
    "    features_upsampled = pd.concat([features_zeros] + [features_ones] * repeat)\n",
    "    target_upsampled = pd.concat([target_zeros] + [target_ones] * repeat)\n",
    "    \n",
    "    features_upsampled, target_upsampled = shuffle(\n",
    "        features_upsampled, target_upsampled, random_state=12345)\n",
    "    \n",
    "    return features_upsampled, target_upsampled\n",
    "# создаём увеличинный набор из исходного тренировочного\n",
    "features_upsampled, target_upsampled = upsample(features_train, target_train, 4)"
   ]
  },
  {
   "cell_type": "code",
   "execution_count": 176,
   "id": "35880109",
   "metadata": {},
   "outputs": [],
   "source": [
    "# пишем функцию, которая с помощью удаления части строк с целевым признаком 0 уменьшит их число в наборе, \n",
    "# а затем перемешает строки\n",
    "def downsample(features, target, fraction):\n",
    "    features_zeros = features[target == 0]\n",
    "    features_ones = features[target == 1]\n",
    "    target_zeros = target[target == 0]\n",
    "    target_ones = target[target == 1]\n",
    "\n",
    "    features_downsampled = pd.concat(\n",
    "        [features_zeros.sample(frac=fraction, random_state=12345)] + [features_ones])\n",
    "    target_downsampled = pd.concat(\n",
    "        [target_zeros.sample(frac=fraction, random_state=12345)] + [target_ones])\n",
    "    \n",
    "    features_downsampled, target_downsampled = shuffle(\n",
    "        features_downsampled, target_downsampled, random_state=12345)\n",
    "    \n",
    "    return features_downsampled, target_downsampled\n",
    "# создаём уменьшенный набор из исходного тренировочного\n",
    "features_downsampled, target_downsampled = downsample(features_train, target_train, 0.25)"
   ]
  },
  {
   "cell_type": "markdown",
   "id": "00791336",
   "metadata": {},
   "source": [
    "Посмотрим на размеры получившихся наборов и соотношение классов целевого признака в каждом наборе:\n"
   ]
  },
  {
   "cell_type": "code",
   "execution_count": 177,
   "id": "b35f9410",
   "metadata": {},
   "outputs": [
    {
     "name": "stdout",
     "output_type": "stream",
     "text": [
      "Размеры исходного тренировочного набора: (6000, 11) (6000,)\n",
      "0    4777\n",
      "1    1223\n",
      "Name: exited, dtype: int64 \n",
      "\n",
      "Размеры увеличенного набора: (9669, 11) (9669,)\n",
      "1    4892\n",
      "0    4777\n",
      "Name: exited, dtype: int64 \n",
      "\n",
      "Размеры уменьшенного набора: (2417, 11) (2417,)\n",
      "1    1223\n",
      "0    1194\n",
      "Name: exited, dtype: int64 \n",
      "\n"
     ]
    }
   ],
   "source": [
    "print('Размеры исходного тренировочного набора:', features_train.shape, target_train.shape) # смотрим размеры тренировочного набора\n",
    "print(target_train.value_counts(), '\\n') # смотрим соотношение классов\n",
    "print('Размеры увеличенного набора:', features_upsampled.shape, target_upsampled.shape) # смотрим размеры увеличенного набора\n",
    "print(target_upsampled.value_counts(), '\\n') # смотрим соотношение классов\n",
    "print('Размеры уменьшенного набора:', features_downsampled.shape, target_downsampled.shape) # смотрим размеры уменьшенного набора\n",
    "print(target_downsampled.value_counts(), '\\n') # смотрим соотношение классов"
   ]
  },
  {
   "cell_type": "markdown",
   "id": "2972fb84",
   "metadata": {},
   "source": [
    "Наши тренировочные наборы готовы, видно, что соотношение классов почти 1:1. Можно приступать к подбору модели."
   ]
  },
  {
   "cell_type": "markdown",
   "id": "39e02aa1",
   "metadata": {},
   "source": [
    "## Построение модели для классификации"
   ]
  },
  {
   "cell_type": "markdown",
   "id": "c1d2df2b",
   "metadata": {},
   "source": [
    "Каждый из тренировочных наборов используем для обучения: \n",
    "- дерева решений разной глубины\n",
    "- случайного леса с разным количеством деревьев разной глубины\n",
    "- логистическую регрессию\n",
    "\n",
    "В каждом из случаев будем находить F1-меру для оценки качества, строить ROC-кривую, считать AUC-ROC, строить иерархию важности  признаков. \n",
    "<br> Для моделей дерева и леса для построения иерархии используем атрибут feature_importances_, а для модели логистической регрессии о важности признаков будем судить по коэффициентам регрессии.\n",
    "\n",
    "Функции для построения ROC-кривой, нахождения AUC-ROC, построения иерархии важности признаков для моделей дерева и леса напишем сразу."
   ]
  },
  {
   "cell_type": "code",
   "execution_count": 178,
   "id": "7c3cf122",
   "metadata": {},
   "outputs": [],
   "source": [
    "# функция для построения ROC-кривой\n",
    "def ROC_curve(features_valid, target_valid):\n",
    "    probabilities_valid = best_model.predict_proba(features_valid)\n",
    "    probabilities_one_valid = probabilities_valid[:, 1]\n",
    "    fpr, tpr, thresholds = roc_curve(target_valid, probabilities_one_valid) \n",
    "    plt.figure()\n",
    "    plt.plot(fpr, tpr)\n",
    " # ROC-кривая случайной модели \n",
    "    plt.plot([0, 1], [0, 1], linestyle='--')\n",
    "    plt.xlim([0, 1])\n",
    "    plt.ylim([0, 1])\n",
    "    plt.xlabel(\"False Positive Rate\") \n",
    "    plt.ylabel(\"True Positive Rate\")\n",
    "    plt.title(\"ROC-кривая\") \n",
    "    plt.show()\n",
    "\n",
    "# функция для нахождения AUC_ROC\n",
    "def AUC_ROC(features_valid, target_valid):\n",
    "    probabilities_valid = best_model.predict_proba(features_valid)\n",
    "    probabilities_one_valid = probabilities_valid[:, 1]  \n",
    "    auc_roc = roc_auc_score(target_valid, probabilities_one_valid)\n",
    "    return auc_roc\n",
    "\n",
    "# функция для определения иерархии важности признаков для моделей дерева и леса\n",
    "def importance(model, features):\n",
    "    importances = pd.DataFrame(data={\n",
    "    'Признак': features.columns,\n",
    "    'Важность признака': model.feature_importances_\n",
    "    }).sort_values(by='Важность признака')\n",
    "    plt.barh(importances['Признак'], importances['Важность признака'], color='cornflowerblue')\n",
    "    plt.xlabel(\"Важность признака\")\n",
    "    plt.ylabel(\"Признак\")\n",
    "    plt.title(\"Важность признаков \\n\")\n",
    "    plt.show()"
   ]
  },
  {
   "cell_type": "markdown",
   "id": "cef8e293",
   "metadata": {},
   "source": [
    "### Дерево решений"
   ]
  },
  {
   "cell_type": "code",
   "execution_count": 179,
   "id": "99b7f391",
   "metadata": {},
   "outputs": [
    {
     "name": "stdout",
     "output_type": "stream",
     "text": [
      "Исходный набор \n",
      " f1-мера лучшей модели на валидационной выборке: 0.5747330960854092 \n",
      "Глубина лучшего дерева: 6\n"
     ]
    },
    {
     "data": {
      "image/png": "[encoded data removed]",
      "text/plain": [
       "<Figure size 432x288 with 1 Axes>"
      ]
     },
     "metadata": {
      "needs_background": "light"
     },
     "output_type": "display_data"
    },
    {
     "name": "stdout",
     "output_type": "stream",
     "text": [
      "AUC-ROC =  0.8353337929609115 \n",
      "\n"
     ]
    },
    {
     "data": {
      "image/png": "[encoded data removed]",
      "text/plain": [
       "<Figure size 432x288 with 1 Axes>"
      ]
     },
     "metadata": {
      "needs_background": "light"
     },
     "output_type": "display_data"
    },
    {
     "name": "stdout",
     "output_type": "stream",
     "text": [
      "None\n",
      "Увеличенный набор \n",
      " f1-мера лучшей модели на валидационной выборке: 0.576544315129812 \n",
      "Глубина лучшего дерева: 6\n"
     ]
    },
    {
     "data": {
      "image/png": "[encoded data removed]",
      "text/plain": [
       "<Figure size 432x288 with 1 Axes>"
      ]
     },
     "metadata": {
      "needs_background": "light"
     },
     "output_type": "display_data"
    },
    {
     "name": "stdout",
     "output_type": "stream",
     "text": [
      "AUC-ROC =  0.8364173109935821 \n",
      "\n"
     ]
    },
    {
     "data": {
      "image/png": "[encoded data removed]",
      "text/plain": [
       "<Figure size 432x288 with 1 Axes>"
      ]
     },
     "metadata": {
      "needs_background": "light"
     },
     "output_type": "display_data"
    },
    {
     "name": "stdout",
     "output_type": "stream",
     "text": [
      "None\n",
      "Уменьшенный набор \n",
      " f1-мера лучшей модели на валидационной выборке: 0.5933400605449041 \n",
      "Глубина лучшего дерева: 6\n"
     ]
    },
    {
     "data": {
      "image/png": "[encoded data removed]",
      "text/plain": [
       "<Figure size 432x288 with 1 Axes>"
      ]
     },
     "metadata": {
      "needs_background": "light"
     },
     "output_type": "display_data"
    },
    {
     "name": "stdout",
     "output_type": "stream",
     "text": [
      "AUC-ROC =  0.8435207164020724 \n",
      "\n"
     ]
    },
    {
     "data": {
      "image/png": "[encoded data removed]",
      "text/plain": [
       "<Figure size 432x288 with 1 Axes>"
      ]
     },
     "metadata": {
      "needs_background": "light"
     },
     "output_type": "display_data"
    },
    {
     "name": "stdout",
     "output_type": "stream",
     "text": [
      "None\n"
     ]
    }
   ],
   "source": [
    "# создаём цикл, в котором для исходного, увеличенного и уменьшенного наборов с помощью варьирования глубины\n",
    "# будет подбираться наилучшее дерево решений\n",
    "decision_tree_results = []\n",
    "decision_tree_auc_roc = []\n",
    "for features, target, name in [[features_train, target_train, 'Исходный набор'], \n",
    "                               [features_upsampled, target_upsampled, 'Увеличенный набор'], \n",
    "                               [features_downsampled, target_downsampled, 'Уменьшенный набор']]:\n",
    "    class_weight = 'balanced' if name == 'Исходный набор' else None\n",
    "    best_model = None\n",
    "    best_result = 0\n",
    "    for depth in range(1, 21):\n",
    "        model = DecisionTreeClassifier(random_state=12345, max_depth=depth, class_weight=class_weight) # создаём модель с заданной глубиной дерева\n",
    "        model.fit(features, target) # обучаем \n",
    "        predicted_valid = model.predict(features_valid)\n",
    "        result = f1_score(predicted_valid, target_valid) # находим f1-меры на валидационном наборе\n",
    "        if result > best_result: # с помощью условия находим лучшее дерево и его параметры\n",
    "            best_model = model # сохраняем лучшую модель\n",
    "            best_result = result # сохраняем наилучшее значение f1-меры на валидационных данных\n",
    "            best_depth = depth # глубину лучшего дерева  \n",
    "    decision_tree_results.append(best_result) # добавляем f1-меру в список\n",
    "    decision_tree_auc_roc.append(AUC_ROC(features_valid, target_valid)) # добавляем AUC-ROC в список\n",
    "    print(name, '\\n', \"f1-мера лучшей модели на валидационной выборке:\", best_result, '\\nГлубина лучшего дерева:', best_depth) # выводим параметры лучшего дерева    \n",
    "    # строим ROC-кривую, выводим площадь под ROC-кривой\n",
    "    ROC_curve(features_valid, target_valid)\n",
    "    print('AUC-ROC = ', AUC_ROC(features_valid, target_valid), '\\n')\n",
    "    # находим важность признаков\n",
    "    print(importance(best_model, features))"
   ]
  },
  {
   "cell_type": "markdown",
   "id": "f13e13da",
   "metadata": {},
   "source": [
    "Для всех трёх наборов оптимально дерево с глубиной 6. По F1-мере и AUC-ROC результаты у уменьшенной выборки чуть лучше, чем у остальных, но в целом довольно близкие значения."
   ]
  },
  {
   "cell_type": "markdown",
   "id": "7b163cb6",
   "metadata": {},
   "source": [
    "### Случайный лес"
   ]
  },
  {
   "cell_type": "code",
   "execution_count": 180,
   "id": "7adf4c88",
   "metadata": {},
   "outputs": [
    {
     "name": "stdout",
     "output_type": "stream",
     "text": [
      "Исходный набор \n",
      " f1-мера наилучшей модели на валидационной выборке: 0.624413145539906 \n",
      "Лучшая глубина дерева: 9 \n",
      "Лучшее количество деревьев: 16 \n",
      "\n"
     ]
    },
    {
     "data": {
      "image/png": "[encoded data removed]",
      "text/plain": [
       "<Figure size 432x288 with 1 Axes>"
      ]
     },
     "metadata": {
      "needs_background": "light"
     },
     "output_type": "display_data"
    },
    {
     "name": "stdout",
     "output_type": "stream",
     "text": [
      "AUC-ROC =  0.8581393411901885 \n",
      "\n"
     ]
    },
    {
     "data": {
      "image/png": "[encoded data removed]",
      "text/plain": [
       "<Figure size 432x288 with 1 Axes>"
      ]
     },
     "metadata": {
      "needs_background": "light"
     },
     "output_type": "display_data"
    },
    {
     "name": "stdout",
     "output_type": "stream",
     "text": [
      "None\n",
      "Увеличенный набор \n",
      " f1-мера наилучшей модели на валидационной выборке: 0.6328042328042327 \n",
      "Лучшая глубина дерева: 9 \n",
      "Лучшее количество деревьев: 18 \n",
      "\n"
     ]
    },
    {
     "data": {
      "image/png": "[encoded data removed]",
      "text/plain": [
       "<Figure size 432x288 with 1 Axes>"
      ]
     },
     "metadata": {
      "needs_background": "light"
     },
     "output_type": "display_data"
    },
    {
     "name": "stdout",
     "output_type": "stream",
     "text": [
      "AUC-ROC =  0.8670565789209858 \n",
      "\n"
     ]
    },
    {
     "data": {
      "image/png": "[encoded data removed]",
      "text/plain": [
       "<Figure size 432x288 with 1 Axes>"
      ]
     },
     "metadata": {
      "needs_background": "light"
     },
     "output_type": "display_data"
    },
    {
     "name": "stdout",
     "output_type": "stream",
     "text": [
      "None\n",
      "Уменьшенный набор \n",
      " f1-мера наилучшей модели на валидационной выборке: 0.6168958742632613 \n",
      "Лучшая глубина дерева: 8 \n",
      "Лучшее количество деревьев: 15 \n",
      "\n"
     ]
    },
    {
     "data": {
      "image/png": "[encoded data removed]",
      "text/plain": [
       "<Figure size 432x288 with 1 Axes>"
      ]
     },
     "metadata": {
      "needs_background": "light"
     },
     "output_type": "display_data"
    },
    {
     "name": "stdout",
     "output_type": "stream",
     "text": [
      "AUC-ROC =  0.8656021198394079 \n",
      "\n"
     ]
    },
    {
     "data": {
      "image/png": "[encoded data removed]",
      "text/plain": [
       "<Figure size 432x288 with 1 Axes>"
      ]
     },
     "metadata": {
      "needs_background": "light"
     },
     "output_type": "display_data"
    },
    {
     "name": "stdout",
     "output_type": "stream",
     "text": [
      "None\n",
      "CPU times: user 1min 2s, sys: 273 ms, total: 1min 2s\n",
      "Wall time: 1min 2s\n"
     ]
    }
   ],
   "source": [
    "%%time\n",
    "\n",
    "# создаём цикл, в котором для исходного, увеличенного и уменьшенного наборов с помощью варьирования глубины и числа деревьев\n",
    "# будет подбираться наилучший случайный лес\n",
    "random_forest_results = []\n",
    "random_forest_auc_roc = []\n",
    "for features, target, name in [[features_train, target_train, 'Исходный набор'], \n",
    "                               [features_upsampled, target_upsampled, 'Увеличенный набор'], \n",
    "                               [features_downsampled, target_downsampled, 'Уменьшенный набор']]:\n",
    "    class_weight = 'balanced' if name == 'Исходный набор' else None\n",
    "    best_result = 0\n",
    "    for est in range(1, 21):\n",
    "        for depth in range(1, 21):\n",
    "            model = RandomForestClassifier(random_state=12345, n_estimators=est, \n",
    "                                           max_depth=depth, class_weight=class_weight) # создаём модель с заданным количеством деревьев\n",
    "            model.fit(features, target) # обучаем модель на тренировочной выборке\n",
    "            predicted_valid = model.predict(features_valid)\n",
    "            result = f1_score(predicted_valid, target_valid) # находим f1-меру на валидационном наборе\n",
    "            if result > best_result:\n",
    "                best_model = model # сохраняем лучшую модель\n",
    "                best_result = result #  сохраняем наилучшее значение f1-меру на валидационных данных\n",
    "                best_est = est\n",
    "                best_depth = depth\n",
    "    random_forest_results.append(best_result) # добавляем f1-меру в список, чтобы потом представить результаты в виде таблицы\n",
    "    random_forest_auc_roc.append(AUC_ROC(features_valid, target_valid)) # добавляем AUC-ROC в список\n",
    "    # Выводим параметры лучшего леса\n",
    "    print(name, '\\n', \"f1-мера наилучшей модели на валидационной выборке:\", best_result, \n",
    "          '\\nЛучшая глубина дерева:', best_depth, \n",
    "          '\\nЛучшее количество деревьев:', best_est, '\\n')\n",
    "    ROC_curve(features_valid, target_valid)\n",
    "    # строим ROC-кривую, выводим площадь под ROC-кривой\n",
    "    print('AUC-ROC = ', AUC_ROC(features_valid, target_valid), '\\n')\n",
    "    # находим важность признаков\n",
    "    print(importance(best_model, features))"
   ]
  },
  {
   "cell_type": "markdown",
   "id": "d2dfae40",
   "metadata": {},
   "source": [
    "Снова близкие результаты, лучше всего F1-мера и AUC-ROC у леса из 18 деревьев с глубиной 9, тренировавшегося на увеличенном наборе."
   ]
  },
  {
   "cell_type": "markdown",
   "id": "e93b26c1",
   "metadata": {},
   "source": [
    "### Логистическая регрессия"
   ]
  },
  {
   "cell_type": "code",
   "execution_count": 181,
   "id": "9e26a98f",
   "metadata": {},
   "outputs": [
    {
     "name": "stdout",
     "output_type": "stream",
     "text": [
      "Исходный набор\n",
      "f1-мера модели на валидационной выборке: 0.5113043478260869 \n",
      "\n"
     ]
    },
    {
     "data": {
      "image/png": "[encoded data removed]",
      "text/plain": [
       "<Figure size 432x288 with 1 Axes>"
      ]
     },
     "metadata": {
      "needs_background": "light"
     },
     "output_type": "display_data"
    },
    {
     "name": "stdout",
     "output_type": "stream",
     "text": [
      "AUC-ROC =  0.8656021198394079 \n",
      "\n"
     ]
    },
    {
     "data": {
      "image/png": "[encoded data removed]",
      "text/plain": [
       "<Figure size 432x288 with 1 Axes>"
      ]
     },
     "metadata": {
      "needs_background": "light"
     },
     "output_type": "display_data"
    },
    {
     "name": "stdout",
     "output_type": "stream",
     "text": [
      "Увеличенный набор\n",
      "f1-мера модели на валидационной выборке: 0.5068493150684932 \n",
      "\n"
     ]
    },
    {
     "data": {
      "image/png": "[encoded data removed]",
      "text/plain": [
       "<Figure size 432x288 with 1 Axes>"
      ]
     },
     "metadata": {
      "needs_background": "light"
     },
     "output_type": "display_data"
    },
    {
     "name": "stdout",
     "output_type": "stream",
     "text": [
      "AUC-ROC =  0.8656021198394079 \n",
      "\n"
     ]
    },
    {
     "data": {
      "image/png": "[encoded data removed]",
      "text/plain": [
       "<Figure size 432x288 with 1 Axes>"
      ]
     },
     "metadata": {
      "needs_background": "light"
     },
     "output_type": "display_data"
    },
    {
     "name": "stdout",
     "output_type": "stream",
     "text": [
      "Уменьшенный набор\n",
      "f1-мера модели на валидационной выборке: 0.5042881646655232 \n",
      "\n"
     ]
    },
    {
     "data": {
      "image/png": "[encoded data removed]",
      "text/plain": [
       "<Figure size 432x288 with 1 Axes>"
      ]
     },
     "metadata": {
      "needs_background": "light"
     },
     "output_type": "display_data"
    },
    {
     "name": "stdout",
     "output_type": "stream",
     "text": [
      "AUC-ROC =  0.8656021198394079 \n",
      "\n"
     ]
    },
    {
     "data": {
      "image/png": "[encoded data removed]",
      "text/plain": [
       "<Figure size 432x288 with 1 Axes>"
      ]
     },
     "metadata": {
      "needs_background": "light"
     },
     "output_type": "display_data"
    }
   ],
   "source": [
    "# создаём цикл, в котором на исходном, увеличенном и уменьшенном наборах будет опробована модель логистической регрессии\n",
    "logistic_regression_results = []\n",
    "logistic_regression_auc_roc = []\n",
    "for features, target, name in [[features_train, target_train, 'Исходный набор'], \n",
    "                               [features_upsampled, target_upsampled, 'Увеличенный набор'], \n",
    "                               [features_downsampled, target_downsampled, 'Уменьшенный набор']]:\n",
    "    class_weight = 'balanced' if name == 'Исходный набор' else None\n",
    "    model = LogisticRegression(random_state=12345, max_iter=1000, solver='liblinear',\n",
    "                              class_weight=class_weight) # строим модель логистической регрессии\n",
    "    model.fit(features, target) # обучаем модель на тренировочной выборке\n",
    "# находим и вывадим f1-меру на валидационном наборе\n",
    "    predicted_valid = model.predict(features_valid)\n",
    "    result = f1_score(predicted_valid, target_valid)\n",
    "    print(name)\n",
    "    print(\"f1-мера модели на валидационной выборке:\", result, '\\n') \n",
    "    logistic_regression_results.append(result) # добавляем f1-меру в список\n",
    "    logistic_regression_auc_roc.append(AUC_ROC(features_valid, target_valid)) # добавляем AUC-ROC в список\n",
    "    # строим ROC-кривую, выводим площадь под ROC-кривой\n",
    "    ROC_curve(features_valid, target_valid)\n",
    "    print('AUC-ROC = ', AUC_ROC(features_valid, target_valid), '\\n')\n",
    "    # находим важность признаков\n",
    "    importances = pd.DataFrame(data={\n",
    "    'Признак': features.columns,\n",
    "    'Коэффициент': model.coef_[0]\n",
    "    }).sort_values(by='Коэффициент', ascending=False)\n",
    "    plt.barh(importances['Признак'], importances['Коэффициент'], color='cornflowerblue')\n",
    "    plt.ylabel(\"Признак\")\n",
    "    plt.xlabel(\"Коэффициент\")\n",
    "    plt.title(\"Коэффициенты логистической регрессии для различных признаков \\n\")\n",
    "    plt.show()"
   ]
  },
  {
   "cell_type": "markdown",
   "id": "999640d4",
   "metadata": {},
   "source": [
    "Сделаем свобную таблицу с результатами."
   ]
  },
  {
   "cell_type": "code",
   "execution_count": 182,
   "id": "ed5da0fd",
   "metadata": {},
   "outputs": [
    {
     "data": {
      "text/html": [
       "<div>\n",
       "<style scoped>\n",
       "    .dataframe tbody tr th:only-of-type {\n",
       "        vertical-align: middle;\n",
       "    }\n",
       "\n",
       "    .dataframe tbody tr th {\n",
       "        vertical-align: top;\n",
       "    }\n",
       "\n",
       "    .dataframe thead th {\n",
       "        text-align: right;\n",
       "    }\n",
       "</style>\n",
       "<table border=\"1\" class=\"dataframe\">\n",
       "  <thead>\n",
       "    <tr style=\"text-align: right;\">\n",
       "      <th></th>\n",
       "      <th>Дерево решений_f1</th>\n",
       "      <th>Случайный лес_f1</th>\n",
       "      <th>Логистическая регрессия_f1</th>\n",
       "      <th>Дерево решений_auc_roc</th>\n",
       "      <th>Случайный лес_auc_roc</th>\n",
       "      <th>Логистическая регрессия_auc_roc</th>\n",
       "    </tr>\n",
       "  </thead>\n",
       "  <tbody>\n",
       "    <tr>\n",
       "      <th>Исходный набор</th>\n",
       "      <td>0.574733</td>\n",
       "      <td>0.624413</td>\n",
       "      <td>0.511304</td>\n",
       "      <td>0.835334</td>\n",
       "      <td>0.858139</td>\n",
       "      <td>0.865602</td>\n",
       "    </tr>\n",
       "    <tr>\n",
       "      <th>Увеличенный набор</th>\n",
       "      <td>0.576544</td>\n",
       "      <td>0.632804</td>\n",
       "      <td>0.506849</td>\n",
       "      <td>0.836417</td>\n",
       "      <td>0.867057</td>\n",
       "      <td>0.865602</td>\n",
       "    </tr>\n",
       "    <tr>\n",
       "      <th>Уменьшенный набор</th>\n",
       "      <td>0.593340</td>\n",
       "      <td>0.616896</td>\n",
       "      <td>0.504288</td>\n",
       "      <td>0.843521</td>\n",
       "      <td>0.865602</td>\n",
       "      <td>0.865602</td>\n",
       "    </tr>\n",
       "  </tbody>\n",
       "</table>\n",
       "</div>"
      ],
      "text/plain": [
       "                   Дерево решений_f1  Случайный лес_f1  \\\n",
       "Исходный набор              0.574733          0.624413   \n",
       "Увеличенный набор           0.576544          0.632804   \n",
       "Уменьшенный набор           0.593340          0.616896   \n",
       "\n",
       "                   Логистическая регрессия_f1  Дерево решений_auc_roc  \\\n",
       "Исходный набор                       0.511304                0.835334   \n",
       "Увеличенный набор                    0.506849                0.836417   \n",
       "Уменьшенный набор                    0.504288                0.843521   \n",
       "\n",
       "                   Случайный лес_auc_roc  Логистическая регрессия_auc_roc  \n",
       "Исходный набор                  0.858139                         0.865602  \n",
       "Увеличенный набор               0.867057                         0.865602  \n",
       "Уменьшенный набор               0.865602                         0.865602  "
      ]
     },
     "metadata": {},
     "output_type": "display_data"
    }
   ],
   "source": [
    "# Создаём таблицу с F1-мерами и AUC-ROC для всех моделей и наборов\n",
    "result_f1 = pd.DataFrame(data={'Дерево решений':decision_tree_results, \n",
    "                               'Случайный лес':random_forest_results, \n",
    "                               'Логистическая регрессия':logistic_regression_results},\n",
    "                                index=['Исходный набор', 'Увеличенный набор', 'Уменьшенный набор'])\n",
    "\n",
    "result_auc_roc = pd.DataFrame(data={'Дерево решений':decision_tree_auc_roc, \n",
    "                               'Случайный лес':random_forest_auc_roc, \n",
    "                               'Логистическая регрессия':logistic_regression_auc_roc},\n",
    "                               index=['Исходный набор', 'Увеличенный набор', 'Уменьшенный набор'])\n",
    "\n",
    "result_all = result_f1.join(result_auc_roc, lsuffix='_f1', rsuffix='_auc_roc')\n",
    "\n",
    "# Выводим таблицу\n",
    "display(result_all)"
   ]
  },
  {
   "cell_type": "markdown",
   "id": "b2b63339",
   "metadata": {},
   "source": [
    " Наибольшее значение F1-меры у модели случайного леса из 18 деревьев с глубиной 9, тренировавшегося на увеличенном наборе, выбираем эту модель для тестрования. <br> У логистической регрессии самые маленькие F1-меры. Интересно, что F1-меры изменяются не синхронно с AUC-ROC - если F1-мера одной модели больше, чем у другой, это не значит, что их AUC-ROC будут в таком отношении. "
   ]
  },
  {
   "cell_type": "markdown",
   "id": "b9755592",
   "metadata": {},
   "source": [
    "## Тестирование лучшей модели"
   ]
  },
  {
   "cell_type": "markdown",
   "id": "04ceab82",
   "metadata": {},
   "source": [
    "Пересоздадим модель с самой большой F1-мерой:"
   ]
  },
  {
   "cell_type": "code",
   "execution_count": 183,
   "id": "64a737fa",
   "metadata": {},
   "outputs": [
    {
     "name": "stdout",
     "output_type": "stream",
     "text": [
      "F1-мера лучшей модели (валидационный набор):  0.6328042328042327\n"
     ]
    }
   ],
   "source": [
    "# пересоздаём модель случайного леса\n",
    "model = RandomForestClassifier(random_state=12345, n_estimators=18, max_depth=9) \n",
    "model.fit(features_upsampled, target_upsampled) # обучаем модель на увеличенной тренировочной выборке\n",
    "predicted_valid = model.predict(features_valid) # делаем предсказание для валидационной выборки\n",
    "print('F1-мера лучшей модели (валидационный набор): ', f1_score(predicted_valid, target_valid)) # находим f1-меру на валидационном наборе"
   ]
  },
  {
   "cell_type": "markdown",
   "id": "ae853eda",
   "metadata": {},
   "source": [
    "Протестируем модель:"
   ]
  },
  {
   "cell_type": "code",
   "execution_count": 184,
   "id": "fa12d65a",
   "metadata": {},
   "outputs": [
    {
     "name": "stdout",
     "output_type": "stream",
     "text": [
      "F1-мера лучшей модели (тестовый набор):  0.6099893730074389\n"
     ]
    }
   ],
   "source": [
    "predicted_test = model.predict(features_test) # делаем предсказание для тестовой выборки\n",
    "print('F1-мера лучшей модели (тестовый набор): ', f1_score(predicted_test, target_test)) # находим f1-меру на тестовом наборе"
   ]
  },
  {
   "cell_type": "code",
   "execution_count": 185,
   "id": "5e64f499",
   "metadata": {},
   "outputs": [
    {
     "data": {
      "text/plain": [
       "['best_model']"
      ]
     },
     "execution_count": 185,
     "metadata": {},
     "output_type": "execute_result"
    }
   ],
   "source": [
    "joblib.dump(model, 'best_model') # сохраним нашу модель"
   ]
  },
  {
   "cell_type": "markdown",
   "id": "dd3d5153",
   "metadata": {},
   "source": [
    "## Дополнительный анализ"
   ]
  },
  {
   "cell_type": "markdown",
   "id": "49ec4af0",
   "metadata": {},
   "source": [
    "Построение иерархии признаков для моделей с наиболее высокой f1-мерой показал, что на факт ухода больше всего влияют возраст и число продуктов. Попробуем исследовать эти зависимости. <br> Начнём с влияния возраста на факт ухода. Разобьём всех клиентов на возрастные категории, а потом посмотрим процент уходов среди представителей каждой категории."
   ]
  },
  {
   "cell_type": "code",
   "execution_count": 201,
   "id": "bf42a948",
   "metadata": {},
   "outputs": [
    {
     "data": {
      "image/png": "[encoded data removed]",
      "text/plain": [
       "<Figure size 576x360 with 1 Axes>"
      ]
     },
     "metadata": {
      "needs_background": "light"
     },
     "output_type": "display_data"
    }
   ],
   "source": [
    "def age_grouping(age): # пишем функцию, которая на входе получает возраст, а возвращает возрастную категорию\n",
    "    if age <= 30:\n",
    "        return 'до 30'\n",
    "    elif age <= 50:\n",
    "        return '31-50'\n",
    "    elif age <= 65:\n",
    "        return '51-65'\n",
    "    else:\n",
    "        return '66+'\n",
    "df['age_category'] = df['age'].apply(age_grouping) # создаём в датафрейме столбец с возрастной категорией\n",
    "# Строим зависимость доли ушедших клиентов от возрастной группы\n",
    "df.groupby('age_category')['exited'].mean().plot.bar(color='cornflowerblue', alpha=1, figsize=(8, 5))\n",
    "plt.ylabel(\"Доля ушедших\")\n",
    "plt.xlabel(\"Возрастная группа\")\n",
    "plt.title(\"Доля ушедших клиентов среди разных возрастных групп \\n\")\n",
    "plt.show()"
   ]
  },
  {
   "cell_type": "markdown",
   "id": "7ae40f6d",
   "metadata": {},
   "source": [
    "Активнее всего уходят клиенты в возрасте 51-65 лет. \n",
    "<br> Исследуем зависимость от числа продуктов."
   ]
  },
  {
   "cell_type": "code",
   "execution_count": 202,
   "id": "3c8835c8",
   "metadata": {},
   "outputs": [
    {
     "data": {
      "image/png": "[encoded data removed]",
      "text/plain": [
       "<Figure size 576x360 with 1 Axes>"
      ]
     },
     "metadata": {
      "needs_background": "light"
     },
     "output_type": "display_data"
    }
   ],
   "source": [
    "# Строим зависимость доли ушедших клиентов от числа продуктов\n",
    "df.groupby('num_of_products')['exited'].mean().plot.bar(color='cornflowerblue', alpha=1, figsize=(8, 5))\n",
    "plt.ylabel(\"Доля ушедших\")\n",
    "plt.xlabel(\"Число продуктов\")\n",
    "plt.title(\"Доля ушедших клиентов среди клиентов с разным числом продуктов \\n\")\n",
    "plt.show()"
   ]
  },
  {
   "cell_type": "code",
   "execution_count": 198,
   "id": "06dfcb92",
   "metadata": {},
   "outputs": [
    {
     "data": {
      "text/plain": [
       "num_of_products\n",
       "1    0.277144\n",
       "2    0.075817\n",
       "3    0.827068\n",
       "4    1.000000\n",
       "Name: exited, dtype: float64"
      ]
     },
     "metadata": {},
     "output_type": "display_data"
    }
   ],
   "source": [
    "# выводим зависимость доли ушедших клиентов от числа продуктов в виде таблицы\n",
    "display(df.groupby('num_of_products')['exited'].mean()) "
   ]
  },
  {
   "cell_type": "markdown",
   "id": "2e3f2747",
   "metadata": {},
   "source": [
    "Удивительно, 82,7% обладателей 3 продуктов и все, у кого было 4 продукта, ушли."
   ]
  },
  {
   "cell_type": "markdown",
   "id": "8ec950fe",
   "metadata": {},
   "source": [
    "## Выводы\n",
    "\n",
    "1. Мы подобрали модель, которая позволит прогнозировать скорый ухода клиента из банка\n",
    "2. Теперь банк, используя её, сможет предупредить этот уход, например, сделав клиенту выгодное прдложение\n",
    "3. Построив иерархию важности признаков для моделей, мы выяснили, что больше всего (по мнению дерева решений и случайного леса) на уход влияют возраст и количество продуктов. Стоит обратить внимание на высокий процент уходов среди клиентов от 51 до 65 лет, а также клиентов с 3 и 4 продуктами."
   ]
  }
 ],
 "metadata": {
  "ExecuteTimeLog": [
   {
    "duration": 35,
    "start_time": "2022-06-16T15:38:05.094Z"
   },
   {
    "duration": 1465,
    "start_time": "2022-06-16T15:50:03.385Z"
   },
   {
    "duration": 147,
    "start_time": "2022-06-16T15:50:04.852Z"
   },
   {
    "duration": 0,
    "start_time": "2022-06-16T15:50:05.001Z"
   },
   {
    "duration": 0,
    "start_time": "2022-06-16T15:50:05.003Z"
   },
   {
    "duration": 0,
    "start_time": "2022-06-16T15:50:05.004Z"
   },
   {
    "duration": 0,
    "start_time": "2022-06-16T15:50:05.005Z"
   },
   {
    "duration": 0,
    "start_time": "2022-06-16T15:50:05.006Z"
   },
   {
    "duration": 0,
    "start_time": "2022-06-16T15:50:05.007Z"
   },
   {
    "duration": 0,
    "start_time": "2022-06-16T15:50:05.009Z"
   },
   {
    "duration": 0,
    "start_time": "2022-06-16T15:50:05.010Z"
   },
   {
    "duration": 0,
    "start_time": "2022-06-16T15:50:05.011Z"
   },
   {
    "duration": 0,
    "start_time": "2022-06-16T15:50:05.012Z"
   },
   {
    "duration": 0,
    "start_time": "2022-06-16T15:50:05.013Z"
   },
   {
    "duration": 0,
    "start_time": "2022-06-16T15:50:05.015Z"
   },
   {
    "duration": 0,
    "start_time": "2022-06-16T15:50:05.016Z"
   },
   {
    "duration": 0,
    "start_time": "2022-06-16T15:50:05.017Z"
   },
   {
    "duration": 0,
    "start_time": "2022-06-16T15:50:05.017Z"
   },
   {
    "duration": 0,
    "start_time": "2022-06-16T15:50:05.019Z"
   },
   {
    "duration": 0,
    "start_time": "2022-06-16T15:50:05.020Z"
   },
   {
    "duration": 0,
    "start_time": "2022-06-16T15:50:05.021Z"
   },
   {
    "duration": 0,
    "start_time": "2022-06-16T15:50:05.022Z"
   },
   {
    "duration": 0,
    "start_time": "2022-06-16T15:50:05.023Z"
   },
   {
    "duration": 0,
    "start_time": "2022-06-16T15:50:05.024Z"
   },
   {
    "duration": 0,
    "start_time": "2022-06-16T15:50:05.026Z"
   },
   {
    "duration": 0,
    "start_time": "2022-06-16T15:50:05.027Z"
   },
   {
    "duration": 0,
    "start_time": "2022-06-16T15:50:05.028Z"
   },
   {
    "duration": 0,
    "start_time": "2022-06-16T15:50:05.029Z"
   },
   {
    "duration": 0,
    "start_time": "2022-06-16T15:50:05.030Z"
   },
   {
    "duration": 0,
    "start_time": "2022-06-16T15:50:05.032Z"
   },
   {
    "duration": 0,
    "start_time": "2022-06-16T15:50:05.033Z"
   },
   {
    "duration": 0,
    "start_time": "2022-06-16T15:50:05.034Z"
   },
   {
    "duration": 1266,
    "start_time": "2022-06-16T15:50:15.485Z"
   },
   {
    "duration": 166,
    "start_time": "2022-06-16T15:50:16.753Z"
   },
   {
    "duration": 0,
    "start_time": "2022-06-16T15:50:16.922Z"
   },
   {
    "duration": 0,
    "start_time": "2022-06-16T15:50:16.924Z"
   },
   {
    "duration": 0,
    "start_time": "2022-06-16T15:50:16.925Z"
   },
   {
    "duration": 0,
    "start_time": "2022-06-16T15:50:16.926Z"
   },
   {
    "duration": 0,
    "start_time": "2022-06-16T15:50:16.927Z"
   },
   {
    "duration": 0,
    "start_time": "2022-06-16T15:50:16.928Z"
   },
   {
    "duration": 0,
    "start_time": "2022-06-16T15:50:16.930Z"
   },
   {
    "duration": 0,
    "start_time": "2022-06-16T15:50:16.931Z"
   },
   {
    "duration": 0,
    "start_time": "2022-06-16T15:50:16.932Z"
   },
   {
    "duration": 0,
    "start_time": "2022-06-16T15:50:16.933Z"
   },
   {
    "duration": 0,
    "start_time": "2022-06-16T15:50:16.935Z"
   },
   {
    "duration": 0,
    "start_time": "2022-06-16T15:50:16.936Z"
   },
   {
    "duration": 0,
    "start_time": "2022-06-16T15:50:16.937Z"
   },
   {
    "duration": 0,
    "start_time": "2022-06-16T15:50:16.937Z"
   },
   {
    "duration": 0,
    "start_time": "2022-06-16T15:50:16.938Z"
   },
   {
    "duration": 0,
    "start_time": "2022-06-16T15:50:16.940Z"
   },
   {
    "duration": 0,
    "start_time": "2022-06-16T15:50:16.940Z"
   },
   {
    "duration": 0,
    "start_time": "2022-06-16T15:50:16.943Z"
   },
   {
    "duration": 0,
    "start_time": "2022-06-16T15:50:16.944Z"
   },
   {
    "duration": 0,
    "start_time": "2022-06-16T15:50:16.945Z"
   },
   {
    "duration": 0,
    "start_time": "2022-06-16T15:50:16.946Z"
   },
   {
    "duration": 0,
    "start_time": "2022-06-16T15:50:16.947Z"
   },
   {
    "duration": 0,
    "start_time": "2022-06-16T15:50:16.948Z"
   },
   {
    "duration": 0,
    "start_time": "2022-06-16T15:50:16.949Z"
   },
   {
    "duration": 0,
    "start_time": "2022-06-16T15:50:16.951Z"
   },
   {
    "duration": 0,
    "start_time": "2022-06-16T15:50:16.994Z"
   },
   {
    "duration": 1,
    "start_time": "2022-06-16T15:50:16.995Z"
   },
   {
    "duration": 0,
    "start_time": "2022-06-16T15:50:16.997Z"
   },
   {
    "duration": 0,
    "start_time": "2022-06-16T15:50:16.998Z"
   },
   {
    "duration": 1255,
    "start_time": "2022-06-16T15:50:58.525Z"
   },
   {
    "duration": 78,
    "start_time": "2022-06-16T15:50:59.782Z"
   },
   {
    "duration": 28,
    "start_time": "2022-06-16T15:50:59.862Z"
   },
   {
    "duration": 5,
    "start_time": "2022-06-16T15:50:59.891Z"
   },
   {
    "duration": 8,
    "start_time": "2022-06-16T15:50:59.897Z"
   },
   {
    "duration": 15,
    "start_time": "2022-06-16T15:50:59.907Z"
   },
   {
    "duration": 257,
    "start_time": "2022-06-16T15:50:59.924Z"
   },
   {
    "duration": 14,
    "start_time": "2022-06-16T15:51:00.183Z"
   },
   {
    "duration": 15,
    "start_time": "2022-06-16T15:51:00.199Z"
   },
   {
    "duration": 252,
    "start_time": "2022-06-16T15:51:00.217Z"
   },
   {
    "duration": 5,
    "start_time": "2022-06-16T15:51:00.471Z"
   },
   {
    "duration": 34,
    "start_time": "2022-06-16T15:51:00.478Z"
   },
   {
    "duration": 4,
    "start_time": "2022-06-16T15:51:00.513Z"
   },
   {
    "duration": 26,
    "start_time": "2022-06-16T15:51:00.518Z"
   },
   {
    "duration": 340,
    "start_time": "2022-06-16T15:51:00.546Z"
   },
   {
    "duration": 247,
    "start_time": "2022-06-16T15:51:00.888Z"
   },
   {
    "duration": 6,
    "start_time": "2022-06-16T15:51:01.137Z"
   },
   {
    "duration": 25,
    "start_time": "2022-06-16T15:51:01.144Z"
   },
   {
    "duration": 1411,
    "start_time": "2022-06-16T15:51:01.170Z"
   },
   {
    "duration": 12,
    "start_time": "2022-06-16T15:51:02.583Z"
   },
   {
    "duration": 15,
    "start_time": "2022-06-16T15:51:02.596Z"
   },
   {
    "duration": 27,
    "start_time": "2022-06-16T15:51:02.613Z"
   },
   {
    "duration": 21,
    "start_time": "2022-06-16T15:51:02.642Z"
   },
   {
    "duration": 15,
    "start_time": "2022-06-16T15:51:02.665Z"
   },
   {
    "duration": 16,
    "start_time": "2022-06-16T15:51:02.682Z"
   },
   {
    "duration": 1766,
    "start_time": "2022-06-16T15:51:02.700Z"
   },
   {
    "duration": 75058,
    "start_time": "2022-06-16T15:51:04.468Z"
   },
   {
    "duration": 899,
    "start_time": "2022-06-16T15:52:19.528Z"
   },
   {
    "duration": 104,
    "start_time": "2022-06-16T15:52:20.429Z"
   },
   {
    "duration": 85,
    "start_time": "2022-06-16T15:52:20.535Z"
   },
   {
    "duration": 57,
    "start_time": "2022-06-16T15:52:20.622Z"
   },
   {
    "duration": 50,
    "start_time": "2022-06-20T05:48:35.748Z"
   },
   {
    "duration": 1668,
    "start_time": "2022-06-20T05:48:43.558Z"
   },
   {
    "duration": 84,
    "start_time": "2022-06-20T05:48:45.353Z"
   },
   {
    "duration": 31,
    "start_time": "2022-06-20T05:48:46.839Z"
   },
   {
    "duration": 6,
    "start_time": "2022-06-20T05:48:49.019Z"
   },
   {
    "duration": 3,
    "start_time": "2022-06-20T05:48:50.168Z"
   },
   {
    "duration": 21,
    "start_time": "2022-06-20T05:48:50.686Z"
   },
   {
    "duration": 258,
    "start_time": "2022-06-20T05:48:52.678Z"
   },
   {
    "duration": 7,
    "start_time": "2022-06-20T05:48:54.110Z"
   },
   {
    "duration": 9,
    "start_time": "2022-06-20T05:48:58.012Z"
   },
   {
    "duration": 217,
    "start_time": "2022-06-20T05:48:58.558Z"
   },
   {
    "duration": 5,
    "start_time": "2022-06-20T05:48:59.895Z"
   },
   {
    "duration": 20,
    "start_time": "2022-06-20T05:49:02.042Z"
   },
   {
    "duration": 6,
    "start_time": "2022-06-20T05:49:04.594Z"
   },
   {
    "duration": 6,
    "start_time": "2022-06-20T05:49:07.558Z"
   },
   {
    "duration": 72,
    "start_time": "2022-06-20T06:05:36.202Z"
   },
   {
    "duration": 1403,
    "start_time": "2022-06-20T06:05:40.631Z"
   },
   {
    "duration": 41,
    "start_time": "2022-06-20T06:05:42.036Z"
   },
   {
    "duration": 33,
    "start_time": "2022-06-20T06:05:42.079Z"
   },
   {
    "duration": 5,
    "start_time": "2022-06-20T06:05:42.115Z"
   },
   {
    "duration": 7,
    "start_time": "2022-06-20T06:05:42.121Z"
   },
   {
    "duration": 18,
    "start_time": "2022-06-20T06:05:42.130Z"
   },
   {
    "duration": 257,
    "start_time": "2022-06-20T06:05:42.150Z"
   },
   {
    "duration": 7,
    "start_time": "2022-06-20T06:05:42.409Z"
   },
   {
    "duration": 16,
    "start_time": "2022-06-20T06:05:42.417Z"
   },
   {
    "duration": 303,
    "start_time": "2022-06-20T06:05:42.436Z"
   },
   {
    "duration": 7,
    "start_time": "2022-06-20T06:05:42.741Z"
   },
   {
    "duration": 36,
    "start_time": "2022-06-20T06:05:42.750Z"
   },
   {
    "duration": 15,
    "start_time": "2022-06-20T06:05:42.789Z"
   },
   {
    "duration": 18,
    "start_time": "2022-06-20T06:05:42.807Z"
   },
   {
    "duration": 13,
    "start_time": "2022-06-20T06:05:42.827Z"
   },
   {
    "duration": 338,
    "start_time": "2022-06-20T06:05:42.841Z"
   },
   {
    "duration": 257,
    "start_time": "2022-06-20T06:05:43.181Z"
   },
   {
    "duration": 6,
    "start_time": "2022-06-20T06:05:43.440Z"
   },
   {
    "duration": 8,
    "start_time": "2022-06-20T06:05:43.448Z"
   },
   {
    "duration": 1523,
    "start_time": "2022-06-20T06:05:43.457Z"
   },
   {
    "duration": 5,
    "start_time": "2022-06-20T06:05:44.982Z"
   },
   {
    "duration": 132,
    "start_time": "2022-06-20T06:05:44.989Z"
   },
   {
    "duration": 45,
    "start_time": "2022-06-20T06:05:45.124Z"
   },
   {
    "duration": 10,
    "start_time": "2022-06-20T06:05:45.172Z"
   },
   {
    "duration": 10,
    "start_time": "2022-06-20T06:05:45.184Z"
   },
   {
    "duration": 39,
    "start_time": "2022-06-20T06:05:45.196Z"
   },
   {
    "duration": 11,
    "start_time": "2022-06-20T06:05:45.237Z"
   },
   {
    "duration": 657,
    "start_time": "2022-06-20T06:05:45.252Z"
   },
   {
    "duration": 1074,
    "start_time": "2022-06-20T06:05:45.910Z"
   },
   {
    "duration": 24946,
    "start_time": "2022-06-20T06:05:46.986Z"
   },
   {
    "duration": 47602,
    "start_time": "2022-06-20T06:06:11.935Z"
   },
   {
    "duration": 317,
    "start_time": "2022-06-20T06:06:59.539Z"
   },
   {
    "duration": 584,
    "start_time": "2022-06-20T06:06:59.858Z"
   },
   {
    "duration": 13,
    "start_time": "2022-06-20T06:07:00.444Z"
   },
   {
    "duration": 135,
    "start_time": "2022-06-20T06:07:00.458Z"
   },
   {
    "duration": 68,
    "start_time": "2022-06-20T06:07:00.594Z"
   },
   {
    "duration": 110,
    "start_time": "2022-06-20T06:07:00.664Z"
   },
   {
    "duration": 111,
    "start_time": "2022-06-20T06:19:43.780Z"
   },
   {
    "duration": 69,
    "start_time": "2022-06-20T06:19:46.523Z"
   },
   {
    "duration": 14,
    "start_time": "2022-06-20T06:20:04.732Z"
   },
   {
    "duration": 106,
    "start_time": "2022-06-20T06:20:07.652Z"
   },
   {
    "duration": 69,
    "start_time": "2022-06-20T06:20:10.249Z"
   },
   {
    "duration": 69,
    "start_time": "2022-06-20T06:20:24.868Z"
   },
   {
    "duration": 1665,
    "start_time": "2022-06-20T06:56:28.176Z"
   },
   {
    "duration": 45,
    "start_time": "2022-06-20T06:56:29.844Z"
   },
   {
    "duration": 30,
    "start_time": "2022-06-20T06:56:29.891Z"
   },
   {
    "duration": 7,
    "start_time": "2022-06-20T06:56:29.924Z"
   },
   {
    "duration": 8,
    "start_time": "2022-06-20T06:56:29.933Z"
   },
   {
    "duration": 31,
    "start_time": "2022-06-20T06:56:29.943Z"
   },
   {
    "duration": 282,
    "start_time": "2022-06-20T06:56:29.976Z"
   },
   {
    "duration": 9,
    "start_time": "2022-06-20T06:56:30.260Z"
   },
   {
    "duration": 21,
    "start_time": "2022-06-20T06:56:30.271Z"
   },
   {
    "duration": 283,
    "start_time": "2022-06-20T06:56:30.295Z"
   },
   {
    "duration": 6,
    "start_time": "2022-06-20T06:56:30.580Z"
   },
   {
    "duration": 36,
    "start_time": "2022-06-20T06:56:30.588Z"
   },
   {
    "duration": 5,
    "start_time": "2022-06-20T06:56:30.627Z"
   },
   {
    "duration": 28,
    "start_time": "2022-06-20T06:56:30.634Z"
   },
   {
    "duration": 380,
    "start_time": "2022-06-20T06:56:30.664Z"
   },
   {
    "duration": 315,
    "start_time": "2022-06-20T06:56:31.045Z"
   },
   {
    "duration": 7,
    "start_time": "2022-06-20T06:56:31.362Z"
   },
   {
    "duration": 25,
    "start_time": "2022-06-20T06:56:31.372Z"
   },
   {
    "duration": 1716,
    "start_time": "2022-06-20T06:56:31.400Z"
   },
   {
    "duration": 8,
    "start_time": "2022-06-20T06:56:33.119Z"
   },
   {
    "duration": 134,
    "start_time": "2022-06-20T06:56:33.129Z"
   },
   {
    "duration": 42,
    "start_time": "2022-06-20T06:56:33.265Z"
   },
   {
    "duration": 12,
    "start_time": "2022-06-20T06:56:33.323Z"
   },
   {
    "duration": 10,
    "start_time": "2022-06-20T06:56:33.337Z"
   },
   {
    "duration": 15,
    "start_time": "2022-06-20T06:56:33.349Z"
   },
   {
    "duration": 9,
    "start_time": "2022-06-20T06:56:33.365Z"
   },
   {
    "duration": 682,
    "start_time": "2022-06-20T06:56:33.376Z"
   },
   {
    "duration": 1168,
    "start_time": "2022-06-20T06:56:34.062Z"
   },
   {
    "duration": 26737,
    "start_time": "2022-06-20T06:56:35.232Z"
   },
   {
    "duration": 47975,
    "start_time": "2022-06-20T06:57:01.972Z"
   },
   {
    "duration": 314,
    "start_time": "2022-06-20T06:57:49.949Z"
   },
   {
    "duration": 581,
    "start_time": "2022-06-20T06:57:50.264Z"
   },
   {
    "duration": 13,
    "start_time": "2022-06-20T06:57:50.847Z"
   },
   {
    "duration": 122,
    "start_time": "2022-06-20T06:57:50.862Z"
   },
   {
    "duration": 78,
    "start_time": "2022-06-20T06:57:50.986Z"
   },
   {
    "duration": 102,
    "start_time": "2022-06-20T06:57:51.066Z"
   },
   {
    "duration": 1338,
    "start_time": "2022-06-20T09:41:10.127Z"
   },
   {
    "duration": 147,
    "start_time": "2022-06-20T09:41:11.467Z"
   },
   {
    "duration": 24,
    "start_time": "2022-06-20T09:41:11.615Z"
   },
   {
    "duration": 3,
    "start_time": "2022-06-20T09:41:11.641Z"
   },
   {
    "duration": 7,
    "start_time": "2022-06-20T09:41:11.646Z"
   },
   {
    "duration": 14,
    "start_time": "2022-06-20T09:41:11.654Z"
   },
   {
    "duration": 208,
    "start_time": "2022-06-20T09:41:11.669Z"
   },
   {
    "duration": 6,
    "start_time": "2022-06-20T09:41:11.878Z"
   },
   {
    "duration": 12,
    "start_time": "2022-06-20T09:41:11.885Z"
   },
   {
    "duration": 214,
    "start_time": "2022-06-20T09:41:11.898Z"
   },
   {
    "duration": 5,
    "start_time": "2022-06-20T09:41:12.113Z"
   },
   {
    "duration": 18,
    "start_time": "2022-06-20T09:41:12.120Z"
   },
   {
    "duration": 4,
    "start_time": "2022-06-20T09:41:12.140Z"
   },
   {
    "duration": 11,
    "start_time": "2022-06-20T09:41:12.146Z"
   },
   {
    "duration": 297,
    "start_time": "2022-06-20T09:41:12.158Z"
   },
   {
    "duration": 214,
    "start_time": "2022-06-20T09:41:12.456Z"
   },
   {
    "duration": 4,
    "start_time": "2022-06-20T09:41:12.672Z"
   },
   {
    "duration": 6,
    "start_time": "2022-06-20T09:41:12.677Z"
   },
   {
    "duration": 1188,
    "start_time": "2022-06-20T09:41:12.694Z"
   },
   {
    "duration": 12,
    "start_time": "2022-06-20T09:41:13.883Z"
   },
   {
    "duration": 104,
    "start_time": "2022-06-20T09:41:13.896Z"
   },
   {
    "duration": 35,
    "start_time": "2022-06-20T09:41:14.001Z"
   },
   {
    "duration": 22,
    "start_time": "2022-06-20T09:41:14.038Z"
   },
   {
    "duration": 14,
    "start_time": "2022-06-20T09:41:14.062Z"
   },
   {
    "duration": 8,
    "start_time": "2022-06-20T09:41:14.078Z"
   },
   {
    "duration": 4,
    "start_time": "2022-06-20T09:41:14.095Z"
   },
   {
    "duration": 498,
    "start_time": "2022-06-20T09:41:14.101Z"
   },
   {
    "duration": 0,
    "start_time": "2022-06-20T09:41:14.600Z"
   },
   {
    "duration": 0,
    "start_time": "2022-06-20T09:41:14.601Z"
   },
   {
    "duration": 0,
    "start_time": "2022-06-20T09:41:14.602Z"
   },
   {
    "duration": 0,
    "start_time": "2022-06-20T09:41:14.603Z"
   },
   {
    "duration": 0,
    "start_time": "2022-06-20T09:41:14.604Z"
   },
   {
    "duration": 0,
    "start_time": "2022-06-20T09:41:14.605Z"
   },
   {
    "duration": 4,
    "start_time": "2022-06-20T09:45:13.505Z"
   },
   {
    "duration": 39,
    "start_time": "2022-06-20T09:45:13.511Z"
   },
   {
    "duration": 22,
    "start_time": "2022-06-20T09:45:13.552Z"
   },
   {
    "duration": 3,
    "start_time": "2022-06-20T09:45:13.576Z"
   },
   {
    "duration": 5,
    "start_time": "2022-06-20T09:45:13.581Z"
   },
   {
    "duration": 15,
    "start_time": "2022-06-20T09:45:13.587Z"
   },
   {
    "duration": 243,
    "start_time": "2022-06-20T09:45:13.603Z"
   },
   {
    "duration": 6,
    "start_time": "2022-06-20T09:45:13.848Z"
   },
   {
    "duration": 7,
    "start_time": "2022-06-20T09:45:13.857Z"
   },
   {
    "duration": 218,
    "start_time": "2022-06-20T09:45:13.865Z"
   },
   {
    "duration": 10,
    "start_time": "2022-06-20T09:45:14.084Z"
   },
   {
    "duration": 18,
    "start_time": "2022-06-20T09:45:14.096Z"
   },
   {
    "duration": 3,
    "start_time": "2022-06-20T09:45:14.115Z"
   },
   {
    "duration": 14,
    "start_time": "2022-06-20T09:45:14.120Z"
   },
   {
    "duration": 233,
    "start_time": "2022-06-20T09:45:14.136Z"
   },
   {
    "duration": 341,
    "start_time": "2022-06-20T09:45:14.370Z"
   },
   {
    "duration": 5,
    "start_time": "2022-06-20T09:45:14.712Z"
   },
   {
    "duration": 9,
    "start_time": "2022-06-20T09:45:14.718Z"
   },
   {
    "duration": 1180,
    "start_time": "2022-06-20T09:45:14.728Z"
   },
   {
    "duration": 5,
    "start_time": "2022-06-20T09:45:15.909Z"
   },
   {
    "duration": 108,
    "start_time": "2022-06-20T09:45:15.915Z"
   },
   {
    "duration": 32,
    "start_time": "2022-06-20T09:45:16.024Z"
   },
   {
    "duration": 10,
    "start_time": "2022-06-20T09:45:16.058Z"
   },
   {
    "duration": 18,
    "start_time": "2022-06-20T09:45:16.070Z"
   },
   {
    "duration": 20,
    "start_time": "2022-06-20T09:45:16.089Z"
   },
   {
    "duration": 19,
    "start_time": "2022-06-20T09:45:16.111Z"
   },
   {
    "duration": 1351,
    "start_time": "2022-06-20T09:45:16.132Z"
   },
   {
    "duration": 61396,
    "start_time": "2022-06-20T09:45:17.484Z"
   },
   {
    "duration": 913,
    "start_time": "2022-06-20T09:46:18.882Z"
   },
   {
    "duration": 14,
    "start_time": "2022-06-20T09:46:19.796Z"
   },
   {
    "duration": 103,
    "start_time": "2022-06-20T09:46:19.812Z"
   },
   {
    "duration": 60,
    "start_time": "2022-06-20T09:46:19.916Z"
   },
   {
    "duration": 166,
    "start_time": "2022-06-20T09:46:19.978Z"
   },
   {
    "duration": 144,
    "start_time": "2022-06-20T09:48:31.001Z"
   },
   {
    "duration": 14,
    "start_time": "2022-06-20T09:54:48.873Z"
   },
   {
    "duration": 13,
    "start_time": "2022-06-20T10:05:09.625Z"
   },
   {
    "duration": 12,
    "start_time": "2022-06-20T10:05:32.174Z"
   },
   {
    "duration": 6,
    "start_time": "2022-06-20T10:05:51.395Z"
   },
   {
    "duration": 6,
    "start_time": "2022-06-20T10:06:34.372Z"
   },
   {
    "duration": 7,
    "start_time": "2022-06-20T10:07:21.394Z"
   },
   {
    "duration": 89,
    "start_time": "2022-06-20T10:08:24.935Z"
   },
   {
    "duration": 7,
    "start_time": "2022-06-20T10:08:58.973Z"
   },
   {
    "duration": 5,
    "start_time": "2022-06-20T10:09:27.111Z"
   },
   {
    "duration": 4,
    "start_time": "2022-06-20T10:09:33.874Z"
   },
   {
    "duration": 39,
    "start_time": "2022-06-20T10:09:33.882Z"
   },
   {
    "duration": 24,
    "start_time": "2022-06-20T10:09:33.923Z"
   },
   {
    "duration": 5,
    "start_time": "2022-06-20T10:09:33.949Z"
   },
   {
    "duration": 4,
    "start_time": "2022-06-20T10:09:33.957Z"
   },
   {
    "duration": 18,
    "start_time": "2022-06-20T10:09:33.963Z"
   },
   {
    "duration": 273,
    "start_time": "2022-06-20T10:09:33.984Z"
   },
   {
    "duration": 6,
    "start_time": "2022-06-20T10:09:34.259Z"
   },
   {
    "duration": 16,
    "start_time": "2022-06-20T10:09:34.267Z"
   },
   {
    "duration": 301,
    "start_time": "2022-06-20T10:09:34.296Z"
   },
   {
    "duration": 6,
    "start_time": "2022-06-20T10:09:34.599Z"
   },
   {
    "duration": 37,
    "start_time": "2022-06-20T10:09:34.607Z"
   },
   {
    "duration": 15,
    "start_time": "2022-06-20T10:09:34.646Z"
   },
   {
    "duration": 8,
    "start_time": "2022-06-20T10:09:34.662Z"
   },
   {
    "duration": 28,
    "start_time": "2022-06-20T10:09:34.672Z"
   },
   {
    "duration": 20,
    "start_time": "2022-06-20T10:09:34.702Z"
   },
   {
    "duration": 334,
    "start_time": "2022-06-20T10:09:34.724Z"
   },
   {
    "duration": 245,
    "start_time": "2022-06-20T10:09:35.060Z"
   },
   {
    "duration": 8,
    "start_time": "2022-06-20T10:09:35.306Z"
   },
   {
    "duration": 8,
    "start_time": "2022-06-20T10:09:35.315Z"
   },
   {
    "duration": 1251,
    "start_time": "2022-06-20T10:09:35.326Z"
   },
   {
    "duration": 5,
    "start_time": "2022-06-20T10:09:36.578Z"
   },
   {
    "duration": 102,
    "start_time": "2022-06-20T10:09:36.594Z"
   },
   {
    "duration": 32,
    "start_time": "2022-06-20T10:09:36.698Z"
   },
   {
    "duration": 9,
    "start_time": "2022-06-20T10:09:36.732Z"
   },
   {
    "duration": 9,
    "start_time": "2022-06-20T10:09:36.742Z"
   },
   {
    "duration": 8,
    "start_time": "2022-06-20T10:09:36.752Z"
   },
   {
    "duration": 32,
    "start_time": "2022-06-20T10:09:36.762Z"
   },
   {
    "duration": 19,
    "start_time": "2022-06-20T10:09:36.796Z"
   },
   {
    "duration": 0,
    "start_time": "2022-06-20T10:09:36.816Z"
   },
   {
    "duration": 1,
    "start_time": "2022-06-20T10:09:36.817Z"
   },
   {
    "duration": 0,
    "start_time": "2022-06-20T10:09:36.818Z"
   },
   {
    "duration": 0,
    "start_time": "2022-06-20T10:09:36.819Z"
   },
   {
    "duration": 0,
    "start_time": "2022-06-20T10:09:36.820Z"
   },
   {
    "duration": 0,
    "start_time": "2022-06-20T10:09:36.821Z"
   },
   {
    "duration": 6,
    "start_time": "2022-06-20T10:10:02.723Z"
   },
   {
    "duration": 6,
    "start_time": "2022-06-20T10:10:48.340Z"
   },
   {
    "duration": 6,
    "start_time": "2022-06-20T10:10:48.912Z"
   },
   {
    "duration": 4,
    "start_time": "2022-06-20T10:13:44.175Z"
   },
   {
    "duration": 5,
    "start_time": "2022-06-20T10:13:48.065Z"
   },
   {
    "duration": 57,
    "start_time": "2022-06-20T10:13:48.072Z"
   },
   {
    "duration": 21,
    "start_time": "2022-06-20T10:13:48.131Z"
   },
   {
    "duration": 4,
    "start_time": "2022-06-20T10:13:48.153Z"
   },
   {
    "duration": 7,
    "start_time": "2022-06-20T10:13:48.159Z"
   },
   {
    "duration": 17,
    "start_time": "2022-06-20T10:13:48.167Z"
   },
   {
    "duration": 229,
    "start_time": "2022-06-20T10:13:48.185Z"
   },
   {
    "duration": 5,
    "start_time": "2022-06-20T10:13:48.416Z"
   },
   {
    "duration": 13,
    "start_time": "2022-06-20T10:13:48.423Z"
   },
   {
    "duration": 236,
    "start_time": "2022-06-20T10:13:48.438Z"
   },
   {
    "duration": 4,
    "start_time": "2022-06-20T10:13:48.675Z"
   },
   {
    "duration": 21,
    "start_time": "2022-06-20T10:13:48.695Z"
   },
   {
    "duration": 17,
    "start_time": "2022-06-20T10:13:48.717Z"
   },
   {
    "duration": 6,
    "start_time": "2022-06-20T10:13:48.735Z"
   },
   {
    "duration": 8,
    "start_time": "2022-06-20T10:13:48.742Z"
   },
   {
    "duration": 7,
    "start_time": "2022-06-20T10:13:48.752Z"
   },
   {
    "duration": 11,
    "start_time": "2022-06-20T10:13:48.760Z"
   },
   {
    "duration": 343,
    "start_time": "2022-06-20T10:13:48.794Z"
   },
   {
    "duration": 231,
    "start_time": "2022-06-20T10:13:49.139Z"
   },
   {
    "duration": 5,
    "start_time": "2022-06-20T10:13:49.371Z"
   },
   {
    "duration": 23,
    "start_time": "2022-06-20T10:13:49.378Z"
   },
   {
    "duration": 1206,
    "start_time": "2022-06-20T10:13:49.410Z"
   },
   {
    "duration": 4,
    "start_time": "2022-06-20T10:13:50.618Z"
   },
   {
    "duration": 100,
    "start_time": "2022-06-20T10:13:50.624Z"
   },
   {
    "duration": 34,
    "start_time": "2022-06-20T10:13:50.726Z"
   },
   {
    "duration": 9,
    "start_time": "2022-06-20T10:13:50.761Z"
   },
   {
    "duration": 26,
    "start_time": "2022-06-20T10:13:50.771Z"
   },
   {
    "duration": 11,
    "start_time": "2022-06-20T10:13:50.799Z"
   },
   {
    "duration": 9,
    "start_time": "2022-06-20T10:13:50.812Z"
   },
   {
    "duration": 1421,
    "start_time": "2022-06-20T10:13:50.823Z"
   },
   {
    "duration": 64586,
    "start_time": "2022-06-20T10:13:52.247Z"
   },
   {
    "duration": 876,
    "start_time": "2022-06-20T10:14:56.834Z"
   },
   {
    "duration": 12,
    "start_time": "2022-06-20T10:14:57.712Z"
   },
   {
    "duration": 106,
    "start_time": "2022-06-20T10:14:57.725Z"
   },
   {
    "duration": 69,
    "start_time": "2022-06-20T10:14:57.832Z"
   },
   {
    "duration": 160,
    "start_time": "2022-06-20T10:14:57.909Z"
   },
   {
    "duration": 64606,
    "start_time": "2022-06-20T10:16:38.494Z"
   },
   {
    "duration": 863,
    "start_time": "2022-06-20T10:17:43.102Z"
   },
   {
    "duration": 897,
    "start_time": "2022-06-20T10:18:48.981Z"
   },
   {
    "duration": 12,
    "start_time": "2022-06-20T10:18:50.564Z"
   },
   {
    "duration": 91,
    "start_time": "2022-06-20T10:21:14.032Z"
   },
   {
    "duration": 54,
    "start_time": "2022-06-20T10:21:15.160Z"
   },
   {
    "duration": 129,
    "start_time": "2022-06-20T10:21:28.649Z"
   },
   {
    "duration": 12,
    "start_time": "2022-06-20T10:21:41.809Z"
   },
   {
    "duration": 123,
    "start_time": "2022-06-20T10:21:44.069Z"
   },
   {
    "duration": 13,
    "start_time": "2022-06-20T10:21:45.034Z"
   },
   {
    "duration": 1277,
    "start_time": "2022-06-20T10:23:33.381Z"
   },
   {
    "duration": 36,
    "start_time": "2022-06-20T10:23:34.660Z"
   },
   {
    "duration": 24,
    "start_time": "2022-06-20T10:23:34.698Z"
   },
   {
    "duration": 4,
    "start_time": "2022-06-20T10:23:34.723Z"
   },
   {
    "duration": 4,
    "start_time": "2022-06-20T10:23:34.728Z"
   },
   {
    "duration": 15,
    "start_time": "2022-06-20T10:23:34.733Z"
   },
   {
    "duration": 229,
    "start_time": "2022-06-20T10:23:34.749Z"
   },
   {
    "duration": 5,
    "start_time": "2022-06-20T10:23:34.980Z"
   },
   {
    "duration": 12,
    "start_time": "2022-06-20T10:23:34.986Z"
   },
   {
    "duration": 212,
    "start_time": "2022-06-20T10:23:35.000Z"
   },
   {
    "duration": 5,
    "start_time": "2022-06-20T10:23:35.213Z"
   },
   {
    "duration": 17,
    "start_time": "2022-06-20T10:23:35.220Z"
   },
   {
    "duration": 14,
    "start_time": "2022-06-20T10:23:35.238Z"
   },
   {
    "duration": 6,
    "start_time": "2022-06-20T10:23:35.254Z"
   },
   {
    "duration": 32,
    "start_time": "2022-06-20T10:23:35.262Z"
   },
   {
    "duration": 4,
    "start_time": "2022-06-20T10:23:35.296Z"
   },
   {
    "duration": 10,
    "start_time": "2022-06-20T10:23:35.302Z"
   },
   {
    "duration": 294,
    "start_time": "2022-06-20T10:23:35.313Z"
   },
   {
    "duration": 222,
    "start_time": "2022-06-20T10:23:35.609Z"
   },
   {
    "duration": 5,
    "start_time": "2022-06-20T10:23:35.833Z"
   },
   {
    "duration": 8,
    "start_time": "2022-06-20T10:23:35.840Z"
   },
   {
    "duration": 1185,
    "start_time": "2022-06-20T10:23:35.849Z"
   },
   {
    "duration": 5,
    "start_time": "2022-06-20T10:23:37.036Z"
   },
   {
    "duration": 100,
    "start_time": "2022-06-20T10:23:37.042Z"
   },
   {
    "duration": 33,
    "start_time": "2022-06-20T10:23:37.143Z"
   },
   {
    "duration": 18,
    "start_time": "2022-06-20T10:23:37.178Z"
   },
   {
    "duration": 7,
    "start_time": "2022-06-20T10:23:37.198Z"
   },
   {
    "duration": 8,
    "start_time": "2022-06-20T10:23:37.207Z"
   },
   {
    "duration": 4,
    "start_time": "2022-06-20T10:23:37.216Z"
   },
   {
    "duration": 1429,
    "start_time": "2022-06-20T10:23:37.221Z"
   },
   {
    "duration": 62497,
    "start_time": "2022-06-20T10:23:38.652Z"
   },
   {
    "duration": 850,
    "start_time": "2022-06-20T10:24:41.150Z"
   },
   {
    "duration": 21,
    "start_time": "2022-06-20T10:24:42.003Z"
   },
   {
    "duration": 171,
    "start_time": "2022-06-20T10:24:42.026Z"
   },
   {
    "duration": 14,
    "start_time": "2022-06-20T10:24:42.199Z"
   },
   {
    "duration": 103,
    "start_time": "2022-06-20T10:24:42.214Z"
   },
   {
    "duration": 146,
    "start_time": "2022-06-20T10:26:56.263Z"
   },
   {
    "duration": 13,
    "start_time": "2022-06-20T10:26:57.757Z"
   },
   {
    "duration": 125,
    "start_time": "2022-06-20T10:27:31.120Z"
   },
   {
    "duration": 55,
    "start_time": "2022-06-20T10:27:36.094Z"
   },
   {
    "duration": 13,
    "start_time": "2022-06-20T10:27:41.730Z"
   },
   {
    "duration": 119,
    "start_time": "2022-06-20T10:27:43.918Z"
   },
   {
    "duration": 13,
    "start_time": "2022-06-20T10:27:44.964Z"
   },
   {
    "duration": 91,
    "start_time": "2022-06-20T10:38:21.433Z"
   },
   {
    "duration": 6,
    "start_time": "2022-06-20T11:06:42.346Z"
   },
   {
    "duration": 6,
    "start_time": "2022-06-20T11:07:26.229Z"
   },
   {
    "duration": 2077,
    "start_time": "2022-06-20T11:07:59.601Z"
   },
   {
    "duration": 5,
    "start_time": "2022-06-20T11:08:36.727Z"
   },
   {
    "duration": 2141,
    "start_time": "2022-06-20T11:08:59.604Z"
   },
   {
    "duration": 6,
    "start_time": "2022-06-20T11:13:46.896Z"
   },
   {
    "duration": 588,
    "start_time": "2022-06-20T11:13:49.099Z"
   },
   {
    "duration": 7,
    "start_time": "2022-06-20T11:14:19.559Z"
   },
   {
    "duration": 1846,
    "start_time": "2022-06-20T11:14:21.070Z"
   },
   {
    "duration": 5,
    "start_time": "2022-06-20T11:15:25.730Z"
   },
   {
    "duration": 509,
    "start_time": "2022-06-20T11:15:29.323Z"
   },
   {
    "duration": 5,
    "start_time": "2022-06-20T11:16:04.497Z"
   },
   {
    "duration": 505,
    "start_time": "2022-06-20T11:16:05.797Z"
   },
   {
    "duration": 1831,
    "start_time": "2022-06-20T11:16:17.897Z"
   },
   {
    "duration": 5,
    "start_time": "2022-06-20T11:17:08.637Z"
   },
   {
    "duration": 1795,
    "start_time": "2022-06-20T11:17:10.001Z"
   },
   {
    "duration": 1852,
    "start_time": "2022-06-20T11:17:22.900Z"
   },
   {
    "duration": 1878,
    "start_time": "2022-06-20T11:17:45.798Z"
   },
   {
    "duration": 8,
    "start_time": "2022-06-20T11:22:08.319Z"
   },
   {
    "duration": 4,
    "start_time": "2022-06-20T11:24:25.296Z"
   },
   {
    "duration": 40,
    "start_time": "2022-06-20T11:24:25.301Z"
   },
   {
    "duration": 22,
    "start_time": "2022-06-20T11:24:25.343Z"
   },
   {
    "duration": 4,
    "start_time": "2022-06-20T11:24:25.366Z"
   },
   {
    "duration": 4,
    "start_time": "2022-06-20T11:24:25.372Z"
   },
   {
    "duration": 18,
    "start_time": "2022-06-20T11:24:25.377Z"
   },
   {
    "duration": 233,
    "start_time": "2022-06-20T11:24:25.396Z"
   },
   {
    "duration": 6,
    "start_time": "2022-06-20T11:24:25.631Z"
   },
   {
    "duration": 7,
    "start_time": "2022-06-20T11:24:25.638Z"
   },
   {
    "duration": 215,
    "start_time": "2022-06-20T11:24:25.646Z"
   },
   {
    "duration": 5,
    "start_time": "2022-06-20T11:24:25.862Z"
   },
   {
    "duration": 27,
    "start_time": "2022-06-20T11:24:25.868Z"
   },
   {
    "duration": 14,
    "start_time": "2022-06-20T11:24:25.896Z"
   },
   {
    "duration": 6,
    "start_time": "2022-06-20T11:24:25.912Z"
   },
   {
    "duration": 5,
    "start_time": "2022-06-20T11:24:25.920Z"
   },
   {
    "duration": 11,
    "start_time": "2022-06-20T11:24:25.926Z"
   },
   {
    "duration": 3,
    "start_time": "2022-06-20T11:24:25.939Z"
   },
   {
    "duration": 8,
    "start_time": "2022-06-20T11:24:25.943Z"
   },
   {
    "duration": 10,
    "start_time": "2022-06-20T11:24:25.952Z"
   },
   {
    "duration": 246,
    "start_time": "2022-06-20T11:24:25.994Z"
   },
   {
    "duration": 223,
    "start_time": "2022-06-20T11:24:26.241Z"
   },
   {
    "duration": 5,
    "start_time": "2022-06-20T11:24:26.465Z"
   },
   {
    "duration": 6,
    "start_time": "2022-06-20T11:24:26.471Z"
   },
   {
    "duration": 1310,
    "start_time": "2022-06-20T11:24:26.478Z"
   },
   {
    "duration": 7,
    "start_time": "2022-06-20T11:24:27.790Z"
   },
   {
    "duration": 199,
    "start_time": "2022-06-20T11:24:27.798Z"
   },
   {
    "duration": 32,
    "start_time": "2022-06-20T11:24:27.999Z"
   },
   {
    "duration": 9,
    "start_time": "2022-06-20T11:24:28.033Z"
   },
   {
    "duration": 9,
    "start_time": "2022-06-20T11:24:28.044Z"
   },
   {
    "duration": 8,
    "start_time": "2022-06-20T11:24:28.055Z"
   },
   {
    "duration": 34,
    "start_time": "2022-06-20T11:24:28.064Z"
   },
   {
    "duration": 1804,
    "start_time": "2022-06-20T11:24:28.100Z"
   },
   {
    "duration": 62324,
    "start_time": "2022-06-20T11:24:29.906Z"
   },
   {
    "duration": 1310,
    "start_time": "2022-06-20T11:25:32.232Z"
   },
   {
    "duration": 11,
    "start_time": "2022-06-20T11:25:33.543Z"
   },
   {
    "duration": 127,
    "start_time": "2022-06-20T11:25:33.555Z"
   },
   {
    "duration": 14,
    "start_time": "2022-06-20T11:25:33.684Z"
   },
   {
    "duration": 94,
    "start_time": "2022-06-20T11:25:33.699Z"
   },
   {
    "duration": 5,
    "start_time": "2022-06-20T11:38:12.617Z"
   },
   {
    "duration": 5,
    "start_time": "2022-06-20T11:46:09.640Z"
   },
   {
    "duration": 506,
    "start_time": "2022-06-20T11:46:12.348Z"
   },
   {
    "duration": 1847,
    "start_time": "2022-06-20T11:46:27.057Z"
   },
   {
    "duration": 63304,
    "start_time": "2022-06-20T11:46:51.942Z"
   },
   {
    "duration": 1255,
    "start_time": "2022-06-20T11:47:55.248Z"
   },
   {
    "duration": 4,
    "start_time": "2022-06-20T11:56:20.242Z"
   },
   {
    "duration": 5,
    "start_time": "2022-06-20T11:57:06.853Z"
   },
   {
    "duration": 494,
    "start_time": "2022-06-20T11:57:09.524Z"
   },
   {
    "duration": 6,
    "start_time": "2022-06-20T11:57:41.022Z"
   },
   {
    "duration": 1863,
    "start_time": "2022-06-20T11:57:42.357Z"
   },
   {
    "duration": 300,
    "start_time": "2022-06-20T12:12:41.971Z"
   },
   {
    "duration": 885,
    "start_time": "2022-06-20T12:13:12.110Z"
   },
   {
    "duration": 233,
    "start_time": "2022-06-20T12:13:33.147Z"
   },
   {
    "duration": 830,
    "start_time": "2022-06-20T12:13:46.750Z"
   },
   {
    "duration": 314,
    "start_time": "2022-06-20T12:17:48.281Z"
   },
   {
    "duration": 1268,
    "start_time": "2022-06-20T12:18:54.139Z"
   },
   {
    "duration": 314,
    "start_time": "2022-06-20T12:19:47.201Z"
   },
   {
    "duration": 1171,
    "start_time": "2022-06-20T12:28:44.330Z"
   },
   {
    "duration": 5,
    "start_time": "2022-06-20T12:51:13.322Z"
   },
   {
    "duration": 250,
    "start_time": "2022-06-20T12:53:57.145Z"
   },
   {
    "duration": 1303,
    "start_time": "2022-06-20T12:54:50.626Z"
   },
   {
    "duration": 1294,
    "start_time": "2022-06-20T12:54:57.629Z"
   },
   {
    "duration": 6,
    "start_time": "2022-06-20T12:57:56.181Z"
   },
   {
    "duration": 1937,
    "start_time": "2022-06-20T12:57:57.681Z"
   },
   {
    "duration": 62800,
    "start_time": "2022-06-20T12:58:07.827Z"
   },
   {
    "duration": 30,
    "start_time": "2022-06-20T13:06:35.203Z"
   },
   {
    "duration": 27,
    "start_time": "2022-06-20T13:06:42.435Z"
   },
   {
    "duration": 1895,
    "start_time": "2022-06-20T13:14:16.335Z"
   },
   {
    "duration": 1781,
    "start_time": "2022-06-20T13:14:25.008Z"
   },
   {
    "duration": 7,
    "start_time": "2022-06-20T13:16:37.013Z"
   },
   {
    "duration": 1841,
    "start_time": "2022-06-20T13:16:38.089Z"
   },
   {
    "duration": 5,
    "start_time": "2022-06-20T13:17:20.550Z"
   },
   {
    "duration": 1763,
    "start_time": "2022-06-20T13:17:21.507Z"
   },
   {
    "duration": 6,
    "start_time": "2022-06-20T13:17:37.448Z"
   },
   {
    "duration": 1844,
    "start_time": "2022-06-20T13:17:38.330Z"
   },
   {
    "duration": 6,
    "start_time": "2022-06-20T13:18:38.034Z"
   },
   {
    "duration": 1755,
    "start_time": "2022-06-20T13:18:39.899Z"
   },
   {
    "duration": 1320,
    "start_time": "2022-06-20T13:18:59.420Z"
   },
   {
    "duration": 13,
    "start_time": "2022-06-20T13:19:23.600Z"
   },
   {
    "duration": 62946,
    "start_time": "2022-06-20T13:20:05.771Z"
   },
   {
    "duration": 5,
    "start_time": "2022-06-20T13:23:09.869Z"
   },
   {
    "duration": 121,
    "start_time": "2022-06-20T13:23:34.694Z"
   },
   {
    "duration": 13,
    "start_time": "2022-06-20T13:23:36.141Z"
   },
   {
    "duration": 1142,
    "start_time": "2022-06-20T13:39:09.237Z"
   },
   {
    "duration": 1227,
    "start_time": "2022-06-20T13:39:45.032Z"
   },
   {
    "duration": 3,
    "start_time": "2022-06-20T13:41:02.711Z"
   },
   {
    "duration": 37,
    "start_time": "2022-06-20T13:41:02.806Z"
   },
   {
    "duration": 20,
    "start_time": "2022-06-20T13:41:02.845Z"
   },
   {
    "duration": 3,
    "start_time": "2022-06-20T13:41:02.866Z"
   },
   {
    "duration": 7,
    "start_time": "2022-06-20T13:41:02.871Z"
   },
   {
    "duration": 12,
    "start_time": "2022-06-20T13:41:02.880Z"
   },
   {
    "duration": 306,
    "start_time": "2022-06-20T13:41:02.893Z"
   },
   {
    "duration": 6,
    "start_time": "2022-06-20T13:41:03.200Z"
   },
   {
    "duration": 8,
    "start_time": "2022-06-20T13:41:03.207Z"
   },
   {
    "duration": 213,
    "start_time": "2022-06-20T13:41:03.217Z"
   },
   {
    "duration": 4,
    "start_time": "2022-06-20T13:41:03.432Z"
   },
   {
    "duration": 19,
    "start_time": "2022-06-20T13:41:03.437Z"
   },
   {
    "duration": 13,
    "start_time": "2022-06-20T13:41:03.457Z"
   },
   {
    "duration": 24,
    "start_time": "2022-06-20T13:41:03.471Z"
   },
   {
    "duration": 5,
    "start_time": "2022-06-20T13:41:03.496Z"
   },
   {
    "duration": 6,
    "start_time": "2022-06-20T13:41:03.503Z"
   },
   {
    "duration": 4,
    "start_time": "2022-06-20T13:41:03.510Z"
   },
   {
    "duration": 9,
    "start_time": "2022-06-20T13:41:03.515Z"
   },
   {
    "duration": 10,
    "start_time": "2022-06-20T13:41:03.525Z"
   },
   {
    "duration": 239,
    "start_time": "2022-06-20T13:41:03.537Z"
   },
   {
    "duration": 228,
    "start_time": "2022-06-20T13:41:03.778Z"
   },
   {
    "duration": 5,
    "start_time": "2022-06-20T13:41:04.007Z"
   },
   {
    "duration": 21,
    "start_time": "2022-06-20T13:41:04.013Z"
   },
   {
    "duration": 1207,
    "start_time": "2022-06-20T13:41:04.035Z"
   },
   {
    "duration": 5,
    "start_time": "2022-06-20T13:41:05.243Z"
   },
   {
    "duration": 145,
    "start_time": "2022-06-20T13:41:05.249Z"
   },
   {
    "duration": 33,
    "start_time": "2022-06-20T13:41:05.396Z"
   },
   {
    "duration": 10,
    "start_time": "2022-06-20T13:41:05.431Z"
   },
   {
    "duration": 8,
    "start_time": "2022-06-20T13:41:05.443Z"
   },
   {
    "duration": 49,
    "start_time": "2022-06-20T13:41:05.452Z"
   },
   {
    "duration": 8,
    "start_time": "2022-06-20T13:41:05.503Z"
   },
   {
    "duration": 1987,
    "start_time": "2022-06-20T13:41:05.513Z"
   },
   {
    "duration": 62493,
    "start_time": "2022-06-20T13:41:07.502Z"
   },
   {
    "duration": 1334,
    "start_time": "2022-06-20T13:42:09.997Z"
   },
   {
    "duration": 12,
    "start_time": "2022-06-20T13:42:11.332Z"
   },
   {
    "duration": 128,
    "start_time": "2022-06-20T13:42:11.345Z"
   },
   {
    "duration": 11,
    "start_time": "2022-06-20T13:42:11.475Z"
   },
   {
    "duration": 98,
    "start_time": "2022-06-20T13:42:11.493Z"
   },
   {
    "duration": 0,
    "start_time": "2022-06-20T13:42:12.823Z"
   },
   {
    "duration": 1264,
    "start_time": "2022-06-20T13:44:00.707Z"
   },
   {
    "duration": 105,
    "start_time": "2022-06-20T13:46:22.766Z"
   },
   {
    "duration": 105,
    "start_time": "2022-06-20T13:47:00.607Z"
   },
   {
    "duration": 98,
    "start_time": "2022-06-20T13:47:16.211Z"
   },
   {
    "duration": 113,
    "start_time": "2022-06-20T13:51:12.370Z"
   },
   {
    "duration": 112,
    "start_time": "2022-06-20T13:52:14.957Z"
   },
   {
    "duration": 109,
    "start_time": "2022-06-20T13:53:01.624Z"
   },
   {
    "duration": 119,
    "start_time": "2022-06-20T13:56:26.214Z"
   },
   {
    "duration": 19,
    "start_time": "2022-06-20T13:57:26.417Z"
   },
   {
    "duration": 9,
    "start_time": "2022-06-20T13:58:47.775Z"
   },
   {
    "duration": 6,
    "start_time": "2022-06-20T13:58:54.439Z"
   },
   {
    "duration": 6,
    "start_time": "2022-06-20T14:00:46.604Z"
   },
   {
    "duration": 104,
    "start_time": "2022-06-20T14:02:08.413Z"
   },
   {
    "duration": 184,
    "start_time": "2022-06-20T14:11:34.912Z"
   },
   {
    "duration": 110,
    "start_time": "2022-06-20T14:12:54.728Z"
   },
   {
    "duration": 104,
    "start_time": "2022-06-20T14:12:57.515Z"
   },
   {
    "duration": 124,
    "start_time": "2022-06-20T14:15:45.206Z"
   },
   {
    "duration": 128,
    "start_time": "2022-06-20T14:16:08.991Z"
   },
   {
    "duration": 4,
    "start_time": "2022-06-20T14:17:10.371Z"
   },
   {
    "duration": 7,
    "start_time": "2022-06-20T14:17:46.865Z"
   },
   {
    "duration": 121,
    "start_time": "2022-06-20T14:18:28.483Z"
   },
   {
    "duration": 6,
    "start_time": "2022-06-20T14:18:40.611Z"
   },
   {
    "duration": 115,
    "start_time": "2022-06-20T14:19:46.808Z"
   },
   {
    "duration": 7,
    "start_time": "2022-06-20T14:21:13.740Z"
   }
  ],
  "kernelspec": {
   "display_name": "Python 3 (ipykernel)",
   "language": "python",
   "name": "python3"
  },
  "language_info": {
   "codemirror_mode": {
    "name": "ipython",
    "version": 3
   },
   "file_extension": ".py",
   "mimetype": "text/x-python",
   "name": "python",
   "nbconvert_exporter": "python",
   "pygments_lexer": "ipython3",
   "version": "3.9.7"
  },
  "toc": {
   "base_numbering": 1,
   "nav_menu": {},
   "number_sections": true,
   "sideBar": true,
   "skip_h1_title": true,
   "title_cell": "Table of Contents",
   "title_sidebar": "Contents",
   "toc_cell": false,
   "toc_position": {},
   "toc_section_display": true,
   "toc_window_display": false
  }
 },
 "nbformat": 4,
 "nbformat_minor": 5
}
